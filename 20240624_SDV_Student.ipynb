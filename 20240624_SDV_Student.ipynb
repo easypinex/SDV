{
 "cells": [
  {
   "cell_type": "markdown",
   "metadata": {
    "id": "tG81qStRcmxg"
   },
   "source": [
    "# 隱私強化技術上機教學\n",
    "- 國家資通安全研究院　前瞻研究籌獲中心　隱私強化團隊製作\n",
    "- ver. 20240626"
   ]
  },
  {
   "cell_type": "markdown",
   "metadata": {
    "id": "y1hnQafUcmxi"
   },
   "source": [
    "## 程式庫導入"
   ]
  },
  {
   "cell_type": "code",
   "execution_count": 1,
   "metadata": {
    "id": "XFzoDp_Bcmxj",
    "outputId": "69439e16-e9d1-45e1-a1f8-cda521d659cc"
   },
   "outputs": [],
   "source": [
    "%matplotlib inline\n",
    "import matplotlib.pyplot as plt\n",
    "import numpy as np\n",
    "import pandas as pd\n",
    "import seaborn as sns\n",
    "\n",
    "import matplotlib.font_manager as fm\n",
    "\n",
    "from rdt.transformers import AnonymizedFaker\n",
    "\n",
    "from sdv.metadata import SingleTableMetadata\n",
    "from sdv.single_table import GaussianCopulaSynthesizer, CTGANSynthesizer, TVAESynthesizer\n",
    "from sdv.sampling import Condition\n",
    "from sdv.evaluation.single_table import run_diagnostic\n",
    "from sdmetrics.reports.single_table import QualityReport\n",
    "\n",
    "from anonymeter.evaluators import SinglingOutEvaluator, LinkabilityEvaluator, InferenceEvaluator\n",
    "\n",
    "from sklearn.linear_model import LinearRegression\n",
    "from sklearn.model_selection import train_test_split, KFold\n",
    "from sklearn.metrics import r2_score\n",
    "\n",
    "import re\n",
    "import logging\n",
    "import warnings"
   ]
  },
  {
   "cell_type": "code",
   "execution_count": 2,
   "metadata": {},
   "outputs": [],
   "source": [
    "fm.fontManager.addfont('NotoSansTC-VariableFont_wght.ttf')\n",
    "plt.rcParams['font.sans-serif'] =  ['Noto Sans TC']\n",
    "plt.rcParams['axes.unicode_minus']=False                # 用來正常顯示負號\n",
    "warnings.simplefilter(action='ignore', category=FutureWarning)"
   ]
  },
  {
   "cell_type": "markdown",
   "metadata": {
    "id": "bm_nEMWhcmxj"
   },
   "source": [
    "# 資料集說明\n",
    "\n",
    "我們今日要操作的是【白領信貸 (white-collar-loan)】這個資料集。\n",
    "- 裡面是 2023 年全年度的信用貸款申請戶。\n",
    "- 共 100,000 筆資料\n",
    "- 有以下欄位：\n",
    "  - 姓名 (category[str]): 貸款人姓名。\n",
    "  - 身分證字號 (category[str]): 貸款人身分證字號。\n",
    "  - 性別 (category[str]): 貸款人性別。男/女\n",
    "  - 生日 (date): 貸款人生日。\n",
    "  - 郵遞區號 (category[int]): 貸款人郵遞區號六碼。\n",
    "  - 年收入-萬 (int): 貸款人申貸前一年年收入。以新台幣萬元計價，已四捨五入。忽略不同薪資結構\n",
    "  - 貸款申請日 (date): 貸款人最後一次申貸日期。只有 2023 年申請的客戶記錄才會出現在這\n",
    "  - 貸款金額-萬 (int): 貸款人最後一次申貸金額。以新台幣萬元計價，已四捨五入\n",
    "- 本資料集為客戶觀點，一個客戶只有一筆資料，多次申貸以最後一次為準。\n",
    "- 本資料集不存在遺失欄位。\n",
    "- 本資料集為資安院為教育訓練訂製的模擬資料集，純屬虛構，與真實人物、地點無關，如有雷同，實屬巧合。"
   ]
  },
  {
   "cell_type": "markdown",
   "metadata": {
    "id": "Jbw8yzsQcmxk"
   },
   "source": [
    "## 資料讀取"
   ]
  },
  {
   "cell_type": "code",
   "execution_count": 3,
   "metadata": {
    "id": "OoSnLX4lcmxk",
    "outputId": "6d8e83b2-c492-4b14-9145-d57d5e174ed0"
   },
   "outputs": [
    {
     "name": "stdout",
     "output_type": "stream",
     "text": [
      "資料集共有 100000 筆資料，8 個欄位\n",
      "資料集中類別變項的欄位為：['姓名', '身分證字號', '性別', '郵遞區號']\n",
      "資料集中數值變項的欄位為：['年收入-萬', '貸款金額-萬']\n",
      "資料集中日期的欄位為：['生日', '貸款申請日']\n"
     ]
    }
   ],
   "source": [
    "raw_data: pd.DataFrame = pd.read_csv('Prepared_data/white-collar-loan.csv', parse_dates=['生日', '貸款申請日'], dtype={'郵遞區號': 'category'})\n",
    "print(f'資料集共有 {raw_data.shape[0]} 筆資料，{raw_data.shape[1]} 個欄位')\n",
    "print(f'資料集中類別變項的欄位為：{raw_data.select_dtypes(include=[\"object\",\"category\"]).columns.tolist()}')\n",
    "print(f'資料集中數值變項的欄位為：{raw_data.select_dtypes(include=\"number\").columns.tolist()}')\n",
    "print(f'資料集中日期的欄位為：{raw_data.select_dtypes(include=\"datetime\").columns.tolist()}')"
   ]
  },
  {
   "cell_type": "markdown",
   "metadata": {
    "id": "HAhjlxbjcmxk"
   },
   "source": [
    "## 資料預覽"
   ]
  },
  {
   "cell_type": "code",
   "execution_count": 4,
   "metadata": {
    "id": "_LGzYWvScmxk",
    "outputId": "6b674bdf-caeb-4baa-f3c2-e397c70b7dbb"
   },
   "outputs": [
    {
     "data": {
      "text/html": [
       "<div>\n",
       "<style scoped>\n",
       "    .dataframe tbody tr th:only-of-type {\n",
       "        vertical-align: middle;\n",
       "    }\n",
       "\n",
       "    .dataframe tbody tr th {\n",
       "        vertical-align: top;\n",
       "    }\n",
       "\n",
       "    .dataframe thead th {\n",
       "        text-align: right;\n",
       "    }\n",
       "</style>\n",
       "<table border=\"1\" class=\"dataframe\">\n",
       "  <thead>\n",
       "    <tr style=\"text-align: right;\">\n",
       "      <th></th>\n",
       "      <th>姓名</th>\n",
       "      <th>身分證字號</th>\n",
       "      <th>性別</th>\n",
       "      <th>生日</th>\n",
       "      <th>郵遞區號</th>\n",
       "      <th>年收入-萬</th>\n",
       "      <th>貸款申請日</th>\n",
       "      <th>貸款金額-萬</th>\n",
       "    </tr>\n",
       "  </thead>\n",
       "  <tbody>\n",
       "    <tr>\n",
       "      <th>0</th>\n",
       "      <td>吳哲瑋</td>\n",
       "      <td>F731721195</td>\n",
       "      <td>男</td>\n",
       "      <td>1991-11-23</td>\n",
       "      <td>505002</td>\n",
       "      <td>85</td>\n",
       "      <td>2023-01-29</td>\n",
       "      <td>48</td>\n",
       "    </tr>\n",
       "    <tr>\n",
       "      <th>1</th>\n",
       "      <td>劉柏翰</td>\n",
       "      <td>P979481390</td>\n",
       "      <td>男</td>\n",
       "      <td>2001-06-11</td>\n",
       "      <td>461002</td>\n",
       "      <td>37</td>\n",
       "      <td>2023-09-23</td>\n",
       "      <td>42</td>\n",
       "    </tr>\n",
       "    <tr>\n",
       "      <th>2</th>\n",
       "      <td>張佩珊</td>\n",
       "      <td>N230807599</td>\n",
       "      <td>女</td>\n",
       "      <td>1990-02-16</td>\n",
       "      <td>397002</td>\n",
       "      <td>44</td>\n",
       "      <td>2023-07-28</td>\n",
       "      <td>9</td>\n",
       "    </tr>\n",
       "    <tr>\n",
       "      <th>3</th>\n",
       "      <td>蘭佳穎</td>\n",
       "      <td>X098111112</td>\n",
       "      <td>女</td>\n",
       "      <td>1996-09-06</td>\n",
       "      <td>582002</td>\n",
       "      <td>224</td>\n",
       "      <td>2023-03-07</td>\n",
       "      <td>9</td>\n",
       "    </tr>\n",
       "    <tr>\n",
       "      <th>4</th>\n",
       "      <td>謝宇軒</td>\n",
       "      <td>P748394101</td>\n",
       "      <td>男</td>\n",
       "      <td>1985-11-30</td>\n",
       "      <td>923002</td>\n",
       "      <td>57</td>\n",
       "      <td>2023-04-21</td>\n",
       "      <td>42</td>\n",
       "    </tr>\n",
       "    <tr>\n",
       "      <th>5</th>\n",
       "      <td>蔣志偉</td>\n",
       "      <td>U106191481</td>\n",
       "      <td>男</td>\n",
       "      <td>1989-04-15</td>\n",
       "      <td>774001</td>\n",
       "      <td>162</td>\n",
       "      <td>2023-03-20</td>\n",
       "      <td>42</td>\n",
       "    </tr>\n",
       "  </tbody>\n",
       "</table>\n",
       "</div>"
      ],
      "text/plain": [
       "    姓名       身分證字號 性別         生日    郵遞區號  年收入-萬      貸款申請日  貸款金額-萬\n",
       "0  吳哲瑋  F731721195  男 1991-11-23  505002     85 2023-01-29      48\n",
       "1  劉柏翰  P979481390  男 2001-06-11  461002     37 2023-09-23      42\n",
       "2  張佩珊  N230807599  女 1990-02-16  397002     44 2023-07-28       9\n",
       "3  蘭佳穎  X098111112  女 1996-09-06  582002    224 2023-03-07       9\n",
       "4  謝宇軒  P748394101  男 1985-11-30  923002     57 2023-04-21      42\n",
       "5  蔣志偉  U106191481  男 1989-04-15  774001    162 2023-03-20      42"
      ]
     },
     "execution_count": 4,
     "metadata": {},
     "output_type": "execute_result"
    }
   ],
   "source": [
    "raw_data.head(6)"
   ]
  },
  {
   "cell_type": "markdown",
   "metadata": {
    "id": "khMPSzn6cmxk"
   },
   "source": [
    "## 敘述統計"
   ]
  },
  {
   "cell_type": "code",
   "execution_count": 5,
   "metadata": {
    "id": "5mtxRk80cmxk"
   },
   "outputs": [],
   "source": [
    "df_draw = raw_data.copy()"
   ]
  },
  {
   "cell_type": "markdown",
   "metadata": {
    "id": "BREi6agscmxl"
   },
   "source": [
    "### 性別"
   ]
  },
  {
   "cell_type": "code",
   "execution_count": 6,
   "metadata": {
    "id": "6v3LyYixcmxl",
    "outputId": "285f6c32-ce57-42d1-c211-61559dccf1e9"
   },
   "outputs": [
    {
     "data": {
      "image/png": "[encoded data removed]",
      "text/plain": [
       "<Figure size 800x400 with 1 Axes>"
      ]
     },
     "metadata": {},
     "output_type": "display_data"
    }
   ],
   "source": [
    "plt.figure(figsize=(8,4))\n",
    "\n",
    "hue_order = df_draw['性別'].unique()[::1] # reverse\n",
    "sns.countplot(x='性別', data=df_draw, hue='性別', hue_order=hue_order, palette='pastel')\n",
    "plt.title('性別計數圖')\n",
    "\n",
    "plt.show()"
   ]
  },
  {
   "cell_type": "markdown",
   "metadata": {
    "id": "lQ0MV94xcmxl"
   },
   "source": [
    "### 年收入、貸款金額"
   ]
  },
  {
   "cell_type": "code",
   "execution_count": 7,
   "metadata": {
    "id": "RwevTUjWcmxl",
    "outputId": "e8894cd0-ddc6-436e-ba24-d64f9456a75a"
   },
   "outputs": [
    {
     "data": {
      "image/png": "[encoded data removed]",
      "text/plain": [
       "<Figure size 800x400 with 2 Axes>"
      ]
     },
     "metadata": {},
     "output_type": "display_data"
    }
   ],
   "source": [
    "plt.figure(figsize=(8, 4))\n",
    "\n",
    "plt.subplot(1, 2, 1)\n",
    "sns.histplot(df_draw['年收入-萬'], bins=20, kde=True, color='skyblue')\n",
    "plt.title('年收入分佈')\n",
    "\n",
    "plt.subplot(1, 2, 2)\n",
    "sns.histplot(df_draw['貸款金額-萬'], bins=20, kde=True, color='lightgreen')\n",
    "plt.title('貸款金額分佈')\n",
    "\n",
    "plt.tight_layout()\n",
    "plt.show()"
   ]
  },
  {
   "cell_type": "code",
   "execution_count": 8,
   "metadata": {
    "id": "CF7GpgzFcmxl",
    "outputId": "b785d0b6-6dd3-415a-a8f3-159490548341"
   },
   "outputs": [
    {
     "data": {
      "image/png": "[encoded data removed]",
      "text/plain": [
       "<Figure size 800x600 with 1 Axes>"
      ]
     },
     "metadata": {},
     "output_type": "display_data"
    }
   ],
   "source": [
    "plt.figure(figsize=(8, 6))\n",
    "\n",
    "sns.scatterplot(data=df_draw, x='年收入-萬', y='貸款金額-萬', hue='性別', palette='Set1', alpha=0.7, s=100)\n",
    "plt.title('年收入與貸款金額的相關性', fontsize=16)\n",
    "plt.xlabel('年收入-萬', fontsize=14)\n",
    "plt.ylabel('貸款金額-萬', fontsize=14)\n",
    "plt.legend(title='性別')\n",
    "\n",
    "plt.show()"
   ]
  },
  {
   "cell_type": "markdown",
   "metadata": {
    "id": "4J5aVGYUcmxl"
   },
   "source": [
    "### 性別 x 年收入、貸款金額"
   ]
  },
  {
   "cell_type": "code",
   "execution_count": 9,
   "metadata": {},
   "outputs": [
    {
     "data": {
      "text/plain": [
       "<seaborn.axisgrid.FacetGrid at 0x151850520>"
      ]
     },
     "execution_count": 9,
     "metadata": {},
     "output_type": "execute_result"
    },
    {
     "data": {
      "image/png": "[encoded data removed]",
      "text/plain": [
       "<Figure size 563.875x500 with 1 Axes>"
      ]
     },
     "metadata": {},
     "output_type": "display_data"
    }
   ],
   "source": [
    "sns.displot(df_draw, x='年收入-萬', kde=True, hue='性別', palette='Set1')"
   ]
  },
  {
   "cell_type": "markdown",
   "metadata": {
    "id": "pYuS-rJicmxo"
   },
   "source": [
    "# SDV"
   ]
  },
  {
   "cell_type": "markdown",
   "metadata": {},
   "source": [
    "為了後續分析，我們先預留一部分的原始資料作為後續的測試資料。"
   ]
  },
  {
   "cell_type": "code",
   "execution_count": 10,
   "metadata": {},
   "outputs": [],
   "source": [
    "train_data, test_data = train_test_split(raw_data, test_size=0.2, random_state=0)"
   ]
  },
  {
   "cell_type": "markdown",
   "metadata": {
    "id": "DptG-HBNcmxo"
   },
   "source": [
    "## 準備資料"
   ]
  },
  {
   "cell_type": "markdown",
   "metadata": {},
   "source": [
    "在 SDV 中，進行資料合成前，套件會需要先知道資料的格式，才能為每個欄位選擇適合的前處理方式與合成方法。這個讓套件讀取的資料格式資料稱作 metadata，在 SDV 內可用 `SingleTableMetadata.detect_from_dataframe()` 產生出 metadata。以下示範如何產生。"
   ]
  },
  {
   "cell_type": "markdown",
   "metadata": {},
   "source": [
    "> 同場加映：\n",
    "> \n",
    "> SDV 也有提供[直接讀取 `csv` 檔的功能](https://docs.sdv.dev/sdv/single-table-data/data-preparation/loading-data#load_csvs)，可讀取整個資料夾內的所有 `csv` 檔，並儲存成 `dict` 格式。需注意的是，metadata 仍須由使用者自行讀取。"
   ]
  },
  {
   "cell_type": "code",
   "execution_count": 11,
   "metadata": {},
   "outputs": [],
   "source": [
    "# 產生物件\n",
    "metadata = SingleTableMetadata()\n",
    "\n",
    "# 從資料集中擷取欄位資訊，並將其存入 metadata 物件中\n",
    "metadata.detect_from_dataframe(train_data)"
   ]
  },
  {
   "cell_type": "markdown",
   "metadata": {},
   "source": [
    "> 同場加映：\n",
    ">\n",
    "> metadata 也可以使用 `detect_from_csv` 直接從 `csv` 檔讀取。"
   ]
  },
  {
   "cell_type": "markdown",
   "metadata": {},
   "source": [
    "讀取 metadata 後可以進行檢視，確認格式是否正確。"
   ]
  },
  {
   "cell_type": "code",
   "execution_count": 12,
   "metadata": {},
   "outputs": [
    {
     "data": {
      "text/plain": [
       "{'primary_key': '身分證字號',\n",
       " 'METADATA_SPEC_VERSION': 'SINGLE_TABLE_V1',\n",
       " 'columns': {'姓名': {'sdtype': 'categorical'},\n",
       "  '身分證字號': {'sdtype': 'id'},\n",
       "  '性別': {'sdtype': 'categorical'},\n",
       "  '生日': {'sdtype': 'datetime'},\n",
       "  '郵遞區號': {'sdtype': 'categorical'},\n",
       "  '年收入-萬': {'sdtype': 'numerical'},\n",
       "  '貸款申請日': {'sdtype': 'datetime'},\n",
       "  '貸款金額-萬': {'sdtype': 'numerical'}}}"
      ]
     },
     "execution_count": 12,
     "metadata": {},
     "output_type": "execute_result"
    }
   ],
   "source": [
    "metadata.to_dict()"
   ]
  },
  {
   "cell_type": "markdown",
   "metadata": {},
   "source": [
    "可以看到套件自動設定了 `'primary_key'`，代表此份資料集中的獨一無二識別欄位，在整份資料集中，每筆資料的此欄位不得重複。除此之外，`'METADATA_SPEC_VERSION'` 記錄了當前使用的 metadata 版本，而 `'columns'` 為一巢狀 `dict`，記錄每個欄位的資料型態，其中 `'sdtype'` 為 SDV 使用的自定義資料類別，原則上有以下五類：\n",
    "\n",
    "1. `boolean`\n",
    "2. `categorical`\n",
    "3. `datetime`\n",
    "4. `numerical`\n",
    "5. `id`\n",
    "\n",
    "但還有一些衍伸類別可以使用，如：`phone_number`, `email`, `name`, `first_name`, `last_name`, `country_code`, `city`, `latitude`, `longtitude`, `ipv4_address`, `iban`, `credit_card_number`, `swift8` 等地區限定或個人識別資訊等。所有類別詳見[官方 SDTypes 文件](https://docs.sdv.dev/sdv/reference/metadata-spec/sdtypes)。"
   ]
  },
  {
   "cell_type": "markdown",
   "metadata": {},
   "source": [
    "從上面的欄位我們可以觀察到姓名被分錯類別了：它應該是 `name` 而非 `categorical`，因此我們需要將它調整成正確的格式。同時也可將郵遞區號調整為 `text` 更符合後續應用，我們也需要同步調整在 `pandas` 中的資料型態，因為 SDV 會去檢查合成資料與原始資料的型態是否符合。"
   ]
  },
  {
   "cell_type": "code",
   "execution_count": 15,
   "metadata": {},
   "outputs": [],
   "source": [
    "metadata.update_column(column_name='姓名', sdtype='name', pii=True)\n",
    "metadata.update_column(column_name='郵遞區號', sdtype='text', pii=True)"
   ]
  },
  {
   "cell_type": "code",
   "execution_count": 16,
   "metadata": {},
   "outputs": [],
   "source": [
    "train_data['郵遞區號'] = train_data['郵遞區號'].astype(str)"
   ]
  },
  {
   "cell_type": "code",
   "execution_count": 17,
   "metadata": {},
   "outputs": [],
   "source": [
    "test_data['郵遞區號'] = test_data['郵遞區號'].astype(str)"
   ]
  },
  {
   "cell_type": "code",
   "execution_count": 18,
   "metadata": {},
   "outputs": [
    {
     "data": {
      "text/plain": [
       "{'primary_key': '身分證字號',\n",
       " 'METADATA_SPEC_VERSION': 'SINGLE_TABLE_V1',\n",
       " 'columns': {'姓名': {'sdtype': 'name', 'pii': True},\n",
       "  '身分證字號': {'sdtype': 'id'},\n",
       "  '性別': {'sdtype': 'categorical'},\n",
       "  '生日': {'sdtype': 'datetime'},\n",
       "  '郵遞區號': {'sdtype': 'text', 'pii': True},\n",
       "  '年收入-萬': {'sdtype': 'numerical'},\n",
       "  '貸款申請日': {'sdtype': 'datetime'},\n",
       "  '貸款金額-萬': {'sdtype': 'numerical'}}}"
      ]
     },
     "execution_count": 18,
     "metadata": {},
     "output_type": "execute_result"
    }
   ],
   "source": [
    "metadata.to_dict()"
   ]
  },
  {
   "cell_type": "markdown",
   "metadata": {},
   "source": [
    "除此之外，是否需要 Primary Key 也是能進行調整的。例如要把身分證字號從 Primary Key 移除："
   ]
  },
  {
   "cell_type": "code",
   "execution_count": 19,
   "metadata": {},
   "outputs": [],
   "source": [
    "metadata.remove_primary_key()"
   ]
  },
  {
   "cell_type": "code",
   "execution_count": 20,
   "metadata": {},
   "outputs": [
    {
     "data": {
      "text/plain": [
       "{'METADATA_SPEC_VERSION': 'SINGLE_TABLE_V1',\n",
       " 'columns': {'姓名': {'sdtype': 'name', 'pii': True},\n",
       "  '身分證字號': {'sdtype': 'id'},\n",
       "  '性別': {'sdtype': 'categorical'},\n",
       "  '生日': {'sdtype': 'datetime'},\n",
       "  '郵遞區號': {'sdtype': 'text', 'pii': True},\n",
       "  '年收入-萬': {'sdtype': 'numerical'},\n",
       "  '貸款申請日': {'sdtype': 'datetime'},\n",
       "  '貸款金額-萬': {'sdtype': 'numerical'}}}"
      ]
     },
     "execution_count": 20,
     "metadata": {},
     "output_type": "execute_result"
    }
   ],
   "source": [
    "metadata.to_dict()"
   ]
  },
  {
   "cell_type": "markdown",
   "metadata": {},
   "source": [
    "也可以重新設定 Primary Key:"
   ]
  },
  {
   "cell_type": "code",
   "execution_count": 21,
   "metadata": {},
   "outputs": [],
   "source": [
    "metadata.set_primary_key('身分證字號')"
   ]
  },
  {
   "cell_type": "code",
   "execution_count": 22,
   "metadata": {},
   "outputs": [
    {
     "data": {
      "text/plain": [
       "{'primary_key': '身分證字號',\n",
       " 'METADATA_SPEC_VERSION': 'SINGLE_TABLE_V1',\n",
       " 'columns': {'姓名': {'sdtype': 'name', 'pii': True},\n",
       "  '身分證字號': {'sdtype': 'id'},\n",
       "  '性別': {'sdtype': 'categorical'},\n",
       "  '生日': {'sdtype': 'datetime'},\n",
       "  '郵遞區號': {'sdtype': 'text', 'pii': True},\n",
       "  '年收入-萬': {'sdtype': 'numerical'},\n",
       "  '貸款申請日': {'sdtype': 'datetime'},\n",
       "  '貸款金額-萬': {'sdtype': 'numerical'}}}"
      ]
     },
     "execution_count": 22,
     "metadata": {},
     "output_type": "execute_result"
    }
   ],
   "source": [
    "metadata.to_dict()"
   ]
  },
  {
   "cell_type": "markdown",
   "metadata": {},
   "source": [
    "當我們進行完調整後（或者使用自定義的 metadata），可以利用 `validate()` 方法來檢驗目前的 metadata 是否符合格式。"
   ]
  },
  {
   "cell_type": "code",
   "execution_count": 23,
   "metadata": {},
   "outputs": [],
   "source": [
    "metadata.validate()"
   ]
  },
  {
   "cell_type": "markdown",
   "metadata": {},
   "source": [
    "另外也可檢查資料是否符合當前定義的 metadata。"
   ]
  },
  {
   "cell_type": "code",
   "execution_count": 24,
   "metadata": {},
   "outputs": [],
   "source": [
    "metadata.validate_data(train_data)"
   ]
  },
  {
   "cell_type": "markdown",
   "metadata": {},
   "source": [
    "> 同場加映：\n",
    ">\n",
    "> metadata 本身可以直接進行欄位的調整，例如可以用 [`add_column`](https://docs.sdv.dev/sdv/single-table-data/data-preparation/single-table-metadata-api#add_column) 方法新增欄位。`metadata.add_column(column_name, sdtype, **kwargs)`\n",
    ">\n",
    "> 如果特定欄位間有關聯（地址、GPS 資訊），可以使用 [`add_column_relationship`](https://docs.sdv.dev/sdv/single-table-data/data-preparation/single-table-metadata-api#add_column_relationship) 方法將這些欄位串連起來。`metadata.add_column_relationship(relationship_type, column_names)`"
   ]
  },
  {
   "cell_type": "markdown",
   "metadata": {},
   "source": [
    "若有需要，metadata 可以用 `json` 的方式儲存，供未來使用。"
   ]
  },
  {
   "cell_type": "code",
   "execution_count": null,
   "metadata": {},
   "outputs": [],
   "source": [
    "# 將 metadata 物件存成 JSON 檔案\n",
    "# metadata.save_to_json('my_metadata.json')\n",
    "\n",
    "# 從 JSON 檔案中載入 metadata 物件\n",
    "# metadata = SingleTableMetadata.load_from_json('Prepared_data/my_metadata.json')"
   ]
  },
  {
   "cell_type": "markdown",
   "metadata": {},
   "source": [
    "如果熟悉 SDV 的 metadata 格式，也可以直接寫成一個 `dict` 並讓物件自行讀入。"
   ]
  },
  {
   "cell_type": "code",
   "execution_count": 26,
   "metadata": {},
   "outputs": [],
   "source": [
    "my_metadata_dict = {\n",
    "    'primary_key': '身分證字號',\n",
    "    'METADATA_SPEC_VERSION': 'SINGLE_TABLE_V1',\n",
    "    'columns': {\n",
    "        '姓名': {'sdtype': 'name', 'pii': True},\n",
    "        '身分證字號': {'sdtype': 'id'},\n",
    "        '性別': {'sdtype': 'categorical'},\n",
    "        '生日': {'sdtype': 'datetime'},\n",
    "        '郵遞區號': {'sdtype': 'text'},\n",
    "        '年收入-萬': {'sdtype': 'numerical'},\n",
    "        '貸款申請日': {'sdtype': 'datetime'},\n",
    "        '貸款金額-萬': {'sdtype': 'numerical'}\n",
    "    }\n",
    "}\n",
    "\n",
    "metadata = SingleTableMetadata.load_from_dict(my_metadata_dict)"
   ]
  },
  {
   "cell_type": "markdown",
   "metadata": {},
   "source": [
    "## 建模"
   ]
  },
  {
   "cell_type": "markdown",
   "metadata": {},
   "source": [
    "建模階段指的是合成器會去學習資料的結構，以生成出合成資料。在讓合成器學習前，我們需要確保資料符合要求：皆為數值資料且沒有遺失值。另外我們也可以在此階段加入一些限制，讓合成器後續生成的資料更貼近真實資料。\n",
    "\n",
    "在 SDV 中，資料在訓練前會先經過資料前處理，這部分是由另一個套件 [RDT](https://docs.sdv.dev/rdt) 進行處理。除非要修改前處理過程，否則使用者不需要主動去呼叫此套件，SDV 會自行處理前處理的過程。\n",
    "\n",
    "在這份教材中，會示範使用三種 SDV 的合成方法：Gaussian Copula, TVAE, CTGAN。在此我們先以 Gaussian Copula 作為例子進行講解。"
   ]
  },
  {
   "cell_type": "markdown",
   "metadata": {},
   "source": [
    "### 前處理"
   ]
  },
  {
   "cell_type": "code",
   "execution_count": 27,
   "metadata": {},
   "outputs": [],
   "source": [
    "# 先實體化 GaussianCopulaSynthesizer 類別，以進行 Gaussian Copula 合成\n",
    "# 此時需要傳入 metadata 物件\n",
    "synthesizer = GaussianCopulaSynthesizer(metadata=metadata)"
   ]
  },
  {
   "cell_type": "markdown",
   "metadata": {},
   "source": [
    "這時我們可以再傳入欲被合成的資料，讓合成器決定每個欄位該使用何種前處理。"
   ]
  },
  {
   "cell_type": "code",
   "execution_count": 28,
   "metadata": {},
   "outputs": [],
   "source": [
    "synthesizer.auto_assign_transformers(train_data)"
   ]
  },
  {
   "cell_type": "markdown",
   "metadata": {},
   "source": [
    "接著來看合成器的預設前處理方式。"
   ]
  },
  {
   "cell_type": "code",
   "execution_count": 29,
   "metadata": {},
   "outputs": [
    {
     "data": {
      "text/plain": [
       "{'姓名': AnonymizedFaker(provider_name='person', function_name='name'),\n",
       " '身分證字號': IDGenerator(prefix='sdv-id-'),\n",
       " '性別': UniformEncoder(),\n",
       " '生日': UnixTimestampEncoder(enforce_min_max_values=True),\n",
       " '郵遞區號': AnonymizedFaker(provider_name='lorem', function_name='text'),\n",
       " '年收入-萬': FloatFormatter(learn_rounding_scheme=True, enforce_min_max_values=True),\n",
       " '貸款申請日': UnixTimestampEncoder(enforce_min_max_values=True),\n",
       " '貸款金額-萬': FloatFormatter(learn_rounding_scheme=True, enforce_min_max_values=True)}"
      ]
     },
     "execution_count": 29,
     "metadata": {},
     "output_type": "execute_result"
    }
   ],
   "source": [
    "synthesizer.get_transformers()"
   ]
  },
  {
   "cell_type": "markdown",
   "metadata": {},
   "source": [
    "在 SDV 中，每種資料型別會有預設的資料處理類型：\n",
    "\n",
    "| SDType | 預設處理方式 |\n",
    "|---|---|\n",
    "| `boolean` | `UniformEncoder()` |\n",
    "| `categorical` | `UniformEncoder()` |\n",
    "| `datetime` | `UnixTimestampEncoder(enforce_min_max_values=True)` |\n",
    "| `numerical` | `FloatFormatter(learn_rounding_scheme=True, enforce_min_max_values=True)` |\n",
    "| `id` | `IDGenerator(prefix='sdv-id-')` |\n",
    "\n",
    "當然在 SDV/RDT 套件中還有提供更多種的前處理方式可供選擇，以下列舉部分簡單說明：\n",
    "\n",
    "| 前處理方式 | 簡易原理介紹 | 預設套用資料類型 |\n",
    "|---|---|---|\n",
    "|`NullTransformer`| 填補遺失值，在還原時隨機抽樣插入遺失值 | - |\n",
    "|`BinaryEncoder`| 填補遺失值，並將資料轉換為浮點數 | - |\n",
    "|[`UniformEncoder`](https://datacebo.com/blog/improvement-uniform-encoder/)| 計算每個類別對應的 Uniform Distribution 區間，遺失值也被視作一類 | `boolean`, `categorical` |\n",
    "|`OrderedUniformEncoder`| 與 `UniformEncoder` 大致相同，但會留 0.1 的機率範圍給未出現的類別 | - |\n",
    "|`OneHotEncoder`| 略 | - |\n",
    "|`LabelEncoder`| 略 | - |\n",
    "|`OrderedLabelEncoder`| 略 | - |\n",
    "|`UnixTimestampEncoder`| 填補遺失值，並將資料轉換為浮點數 | `datetime` |\n",
    "|`OptimizedTimestampEncoder`| 為 `UnixTimestampEncoder` 的調整版本 | - |\n",
    "|`FloatFormatter`| 填補遺失值，並將資料轉換為浮點數 | `numerical` |\n",
    "|`IDGenerator`| 在前處理階段會將資料捨棄，在生成階段才根據給定字根生成 ID | `id` |\n",
    "|`RegexGenerator`| 在前處理階段會將資料捨棄，在生成階段才根據給定 regex 規則生成字串 | `text` |\n",
    "|`AnonymizedFaker`| 在前處理階段會將資料捨棄，在生成階段才使用 [`Faker`](https://faker.readthedocs.io/en/master/providers.html) 套件生成資料 | `pii` 類資料 |"
   ]
  },
  {
   "cell_type": "markdown",
   "metadata": {},
   "source": [
    "觀察目前的資料前處理方法，可以發現有幾個不合理之處：\n",
    "\n",
    "1. 姓名目前是用 `Faker` 產生合成資料，但預設會產生英文姓名，因此必須調整成中文姓名\n",
    "2. 身分證字號預設會被編碼成 sdv-id-0, sdv-id-1, ... 的形式，然而這不是身分證的編碼方式\n",
    "3. 郵遞區號應由六位數字生成\n",
    "\n",
    "針對這三個問題，我們可以透過修改 transformer 的方式處理。"
   ]
  },
  {
   "cell_type": "code",
   "execution_count": 31,
   "metadata": {},
   "outputs": [],
   "source": [
    "# 指定姓名與身分證字號欄位使用台灣習慣進行合成\n",
    "synthesizer.update_transformers(column_name_to_transformer= {\n",
    "    '姓名': AnonymizedFaker(provider_name='person', function_name='name', locales='zh_TW', missing_value_generation=None),\n",
    "    '身分證字號': AnonymizedFaker(provider_name='ssn', function_name='ssn', locales='zh_TW', cardinality_rule='unique', missing_value_generation=None),\n",
    "    '郵遞區號': AnonymizedFaker(function_name='numerify', function_kwargs={'text': '%#####'}, missing_value_generation=None)\n",
    "})"
   ]
  },
  {
   "cell_type": "markdown",
   "metadata": {},
   "source": [
    "使用 `AnonymizedFaker` 需要使用 `Faker` 中的 `provider_name` 與 `function_name`，詳見 [`Faker` 的官方說明](https://faker.readthedocs.io/en/master/providers.html)。透過 `cardinality_rule` 可以指定生成資料能否重複 (`None`, `'unique'`, `'match'`)，而 `missing_value_generation` 則能決定是否要生成遺失值 (`'random'`, `None`)。\n",
    "\n",
    "需要注意的是，這邊的姓名是獨立合成的，因此可能會遇到女生會有男性姓名或相反的狀況。若要避免此狀況，需將男女分開生成，並指定使用性別限定之姓名。或者後續再利用 `Faker` 套件自行手動調整。同理，這邊的姓名是獨立合成的，因此可能會遇到女生會有男性身分證字號或相反的狀況。若要避免此狀況，需將男女分開生成，並指定使用 regex 生成器。或者後續再利用 `Faker` 套件自行手動調整。而郵遞區號的部分，`Faker` 僅能產生三碼郵遞區號，因此改用其內建的數字生成方法來製作（`%` 代表生成 0 到 9 之間的數字，而 `#` 代表生成 1 到 9 之間的數字）。"
   ]
  },
  {
   "cell_type": "code",
   "execution_count": 32,
   "metadata": {},
   "outputs": [
    {
     "data": {
      "text/plain": [
       "{'姓名': AnonymizedFaker(provider_name='person', function_name='name', locales='zh_TW'),\n",
       " '身分證字號': AnonymizedFaker(provider_name='ssn', function_name='ssn', locales='zh_TW', cardinality_rule='unique'),\n",
       " '性別': UniformEncoder(),\n",
       " '生日': UnixTimestampEncoder(enforce_min_max_values=True),\n",
       " '郵遞區號': AnonymizedFaker(function_name='numerify', function_kwargs={'text': '%#####'}),\n",
       " '年收入-萬': FloatFormatter(learn_rounding_scheme=True, enforce_min_max_values=True),\n",
       " '貸款申請日': UnixTimestampEncoder(enforce_min_max_values=True),\n",
       " '貸款金額-萬': FloatFormatter(learn_rounding_scheme=True, enforce_min_max_values=True)}"
      ]
     },
     "execution_count": 32,
     "metadata": {},
     "output_type": "execute_result"
    }
   ],
   "source": [
    "synthesizer.get_transformers()"
   ]
  },
  {
   "cell_type": "markdown",
   "metadata": {},
   "source": [
    "同時我們也可以在合成前對合成器加入一些限制，例如貸款申請日必須大於生日。目前內建的限制包含以下（可自行定義限制）：\n",
    "\n",
    "|限制|簡易描述|適用於單欄/多欄資料|\n",
    "|---|---|---|\n",
    "|[Positive](https://docs.sdv.dev/sdv/reference/constraint-logic/predefined-constraint-classes/positive)|所有值必須大於 0|單欄|\n",
    "|[Negative](https://docs.sdv.dev/sdv/reference/constraint-logic/predefined-constraint-classes/negative)|所有值必須小於 0|單欄|\n",
    "|[ScalarInequality](https://docs.sdv.dev/sdv/reference/constraint-logic/predefined-constraint-classes/scalarinequality)|所有值必須大/小（等）於某個值|單欄|\n",
    "|[ScalarRange](https://docs.sdv.dev/sdv/reference/constraint-logic/predefined-constraint-classes/scalarrange)|所有值必須介於某個範圍|單欄|\n",
    "|[FixedIncrements](https://docs.sdv.dev/sdv/reference/constraint-logic/predefined-constraint-classes/fixedincrements)|所有值的變化幅度為固定值|單欄|\n",
    "|[FixedCombinations](https://docs.sdv.dev/sdv/reference/constraint-logic/predefined-constraint-classes/fixedcombinations)|欄位組合為固定的|多欄|\n",
    "|[OneHotEncoding](https://docs.sdv.dev/sdv/reference/constraint-logic/predefined-constraint-classes/onehotencoding)|欄位組合符合 One-hot encoding 要求|多欄|\n",
    "|[Inequality](https://docs.sdv.dev/sdv/reference/constraint-logic/predefined-constraint-classes/inequality)|某欄位的值必須大於另一欄位|多欄|\n",
    "|[Range](https://docs.sdv.dev/sdv/reference/constraint-logic/predefined-constraint-classes/range)|某欄位的值必須介於其他欄位|多欄|"
   ]
  },
  {
   "cell_type": "code",
   "execution_count": 33,
   "metadata": {},
   "outputs": [],
   "source": [
    "# 貸款申請日期必須大於生日\n",
    "loan_constraint = {\n",
    "    'constraint_class': 'Inequality',\n",
    "    'constraint_parameters': {\n",
    "        'low_column_name': '生日',\n",
    "        'high_column_name': '貸款申請日'\n",
    "    }\n",
    "}"
   ]
  },
  {
   "cell_type": "code",
   "execution_count": 34,
   "metadata": {},
   "outputs": [],
   "source": [
    "synthesizer.add_constraints(constraints=[loan_constraint])"
   ]
  },
  {
   "cell_type": "markdown",
   "metadata": {},
   "source": [
    "完成前處理與限制定義的部分後，就可以進行資料的擬合。"
   ]
  },
  {
   "cell_type": "code",
   "execution_count": 35,
   "metadata": {},
   "outputs": [
    {
     "data": {
      "text/plain": [
       "[{'constraint_class': 'Inequality',\n",
       "  'constraint_parameters': {'low_column_name': '生日',\n",
       "   'high_column_name': '貸款申請日'}}]"
      ]
     },
     "execution_count": 35,
     "metadata": {},
     "output_type": "execute_result"
    }
   ],
   "source": [
    "synthesizer.get_constraints()"
   ]
  },
  {
   "cell_type": "markdown",
   "metadata": {},
   "source": [
    "### 擬合"
   ]
  },
  {
   "cell_type": "markdown",
   "metadata": {},
   "source": [
    "SDV 提供了三種主流的資料合成方法，比較如下：\n",
    "\n",
    "![](Pic/Synthesizer.png)\n",
    "\n",
    "From https://docs.sdv.dev/sdv/single-table-data/modeling/synthesizers\n",
    "\n",
    "其中 DayZ 是只利用 metadata 產生出合成資料的方式，僅限付費企業用戶使用。Gaussian Copula 是透過統計擬合的方式計算邊際分配與聯合分配的參數，藉此產生出合成資料。CTGAN 則是利用生成對抗網路進行擬合。TVAE 則利用 VAE 的方法產生出合成資料。其中 Gaussian Copula 的計算量較小，擬合速度較快；後兩者則是採用深度學習的方法，利用已經定義好的結構進行模型的訓練，SDV 仍有提供部分參數可自行調整，並支援使用 GPU，詳見官方文件。\n",
    "\n",
    "[Gaussian Copula 官方文件](https://docs.sdv.dev/sdv/single-table-data/modeling/synthesizers/gaussiancopulasynthesizer)\n",
    "\n",
    "[CTGAN 官方文件](https://docs.sdv.dev/sdv/single-table-data/modeling/synthesizers/ctgansynthesizer)\n",
    "\n",
    "[TVAE 官方文件](https://docs.sdv.dev/sdv/single-table-data/modeling/synthesizers/tvaesynthesizer)"
   ]
  },
  {
   "cell_type": "markdown",
   "metadata": {},
   "source": [
    "#### Gaussian Copula"
   ]
  },
  {
   "cell_type": "markdown",
   "metadata": {},
   "source": [
    "透過 `get_learned_distributions()` 方法，我們可以得知每個欄位的擬合結果。SDV 預設使用 beta 分配進行擬合，因為 beta 分配可產生的分配形狀較為多樣，且運算速度快。詳細技術細節可見[這篇 paper](https://dai.lids.mit.edu/wp-content/uploads/2018/03/SDV.pdf)。"
   ]
  },
  {
   "cell_type": "code",
   "execution_count": null,
   "metadata": {},
   "outputs": [],
   "source": [
    "synthesizer.fit(train_data)"
   ]
  },
  {
   "cell_type": "markdown",
   "metadata": {},
   "source": [
    "我們也可以更改欲使用的分配，例如將年收入與貸款金額改成使用 gamma 分配。不過此更改需重新創建一個合成器物件。目前支援的分配有：norm, beta, truncnorm, uniform, gamma, gaussian_kde."
   ]
  },
  {
   "cell_type": "code",
   "execution_count": 36,
   "metadata": {},
   "outputs": [],
   "source": [
    "synthesizer_gaussian = GaussianCopulaSynthesizer(metadata=metadata, numerical_distributions={\n",
    "    '年收入-萬': 'gamma',\n",
    "    '貸款金額-萬': 'gamma'\n",
    "})\n",
    "\n",
    "synthesizer_gaussian.auto_assign_transformers(train_data)\n",
    "\n",
    "synthesizer_gaussian.update_transformers(column_name_to_transformer={\n",
    "    '姓名': AnonymizedFaker(provider_name='person', function_name='name',\n",
    "                           locales='zh_TW', \n",
    "                           missing_value_generation=None),\n",
    "    '身分證字號': AnonymizedFaker(provider_name='ssn', function_name='ssn',\n",
    "                            locales='zh_TW', cardinality_rule='match',\n",
    "                             missing_value_generation=None),\n",
    "    '郵遞區號': AnonymizedFaker(function_name='numerify',\n",
    "                            function_kwargs={'text': '%#####'},\n",
    "                             missing_value_generation=None)\n",
    "    }\n",
    ")\n",
    "\n",
    "synthesizer_gaussian.add_constraints(constraints=[loan_constraint])"
   ]
  },
  {
   "cell_type": "code",
   "execution_count": 37,
   "metadata": {},
   "outputs": [],
   "source": [
    "# 13.0 sec\n",
    "\n",
    "synthesizer_gaussian.fit(train_data)"
   ]
  },
  {
   "cell_type": "code",
   "execution_count": 38,
   "metadata": {},
   "outputs": [
    {
     "data": {
      "text/plain": [
       "{'性別': {'distribution': 'beta',\n",
       "  'learned_parameters': {'loc': 2.87806805239803e-05,\n",
       "   'scale': 0.9999566681600562,\n",
       "   'a': 1.00399796593458,\n",
       "   'b': 1.0003173565294778}},\n",
       " '生日': {'distribution': 'beta',\n",
       "  'learned_parameters': {'loc': 4.2491519999999994e+17,\n",
       "   'scale': 5.994433490546467e+17,\n",
       "   'a': 0.9871394477010661,\n",
       "   'b': 0.9960370180224547}},\n",
       " '年收入-萬': {'distribution': 'gamma',\n",
       "  'learned_parameters': {'a': 1.5203091307635237,\n",
       "   'loc': 33.919581629336065,\n",
       "   'scale': 45.01532647120281}},\n",
       " '貸款金額-萬': {'distribution': 'gamma',\n",
       "  'learned_parameters': {'a': 0.433555296104248,\n",
       "   'loc': 8.999999999999998,\n",
       "   'scale': 1.7165134546593026}},\n",
       " '生日#貸款申請日': {'distribution': 'beta',\n",
       "  'learned_parameters': {'loc': 41.01557788828872,\n",
       "   'scale': 0.6769504186500946,\n",
       "   'a': 1.3825168397182883,\n",
       "   'b': 1.1040137014084794}}}"
      ]
     },
     "execution_count": 38,
     "metadata": {},
     "output_type": "execute_result"
    }
   ],
   "source": [
    "synthesizer_gaussian.get_learned_distributions()"
   ]
  },
  {
   "cell_type": "code",
   "execution_count": 85,
   "metadata": {},
   "outputs": [
    {
     "data": {
      "text/plain": [
       "<seaborn.axisgrid.FacetGrid at 0x11ad9f640>"
      ]
     },
     "execution_count": 85,
     "metadata": {},
     "output_type": "execute_result"
    },
    {
     "data": {
      "image/png": "[encoded data removed]",
      "text/plain": [
       "<Figure size 500x500 with 1 Axes>"
      ]
     },
     "metadata": {},
     "output_type": "display_data"
    }
   ],
   "source": [
    "# 顯示特定欄位的分佈狀況\n",
    "sns.displot(train_data['年收入-萬'])"
   ]
  },
  {
   "cell_type": "code",
   "execution_count": 86,
   "metadata": {},
   "outputs": [],
   "source": [
    "rng = np.random.default_rng(seed=0)\n",
    "# 產生 1000 筆符合 Gamma 分配的隨機數據\n",
    "simulated_data = rng.gamma(shape=1.5203091307635237, scale=45.01532647120281, size=100000) + 33.919581629336065"
   ]
  },
  {
   "cell_type": "code",
   "execution_count": 88,
   "metadata": {},
   "outputs": [
    {
     "data": {
      "text/plain": [
       "<seaborn.axisgrid.FacetGrid at 0x11b3ae9e0>"
      ]
     },
     "execution_count": 88,
     "metadata": {},
     "output_type": "execute_result"
    },
    {
     "data": {
      "image/png": "[encoded data removed]",
      "text/plain": [
       "<Figure size 500x500 with 1 Axes>"
      ]
     },
     "metadata": {},
     "output_type": "display_data"
    }
   ],
   "source": [
    "sns.displot(simulated_data)"
   ]
  },
  {
   "cell_type": "markdown",
   "metadata": {},
   "source": [
    "我們也可以將擬合後的模型儲存下來，以供未來使用。"
   ]
  },
  {
   "cell_type": "code",
   "execution_count": 41,
   "metadata": {},
   "outputs": [],
   "source": [
    "# synthesizer_gaussian.save('my_gaussian_model.pkl')\n",
    "\n",
    "# synthesizer_gaussian = GaussianCopulaSynthesizer.load('Prepared_data/my_gaussian_model.pkl')"
   ]
  },
  {
   "cell_type": "markdown",
   "metadata": {},
   "source": [
    "#### CTGAN"
   ]
  },
  {
   "cell_type": "markdown",
   "metadata": {},
   "source": [
    "CTGAN 有提供部分訓練參數供使用者進行調整。其詳細技術細節可參考[這篇 paper](https://arxiv.org/pdf/1907.00503)。同時 SDV 也有提供相關的[參數調整建議](https://github.com/sdv-dev/SDV/discussions/980)以及[模型解讀方法](https://datacebo.com/blog/interpreting-ctgan-progress/)。"
   ]
  },
  {
   "cell_type": "code",
   "execution_count": null,
   "metadata": {},
   "outputs": [],
   "source": [
    "synthesizer_ctgan = CTGANSynthesizer(metadata=metadata)\n",
    "\n",
    "synthesizer_ctgan.auto_assign_transformers(train_data)\n",
    "\n",
    "synthesizer_ctgan.update_transformers(column_name_to_transformer={\n",
    "    '姓名': AnonymizedFaker(provider_name='person', function_name='name',\n",
    "                           locales='zh_TW', \n",
    "                           missing_value_generation=None),\n",
    "    '身分證字號': AnonymizedFaker(provider_name='ssn', function_name='ssn',\n",
    "                            locales='zh_TW', cardinality_rule='match',\n",
    "                             missing_value_generation=None),\n",
    "    '郵遞區號': AnonymizedFaker(function_name='numerify',\n",
    "                            function_kwargs={'text': '%#####'},\n",
    "                             missing_value_generation=None)\n",
    "    }\n",
    ")\n",
    "\n",
    "synthesizer_ctgan.add_constraints(constraints=[loan_constraint])"
   ]
  },
  {
   "cell_type": "code",
   "execution_count": null,
   "metadata": {},
   "outputs": [],
   "source": [
    "# 28 min 53.1 sec\n",
    "\n",
    "synthesizer_ctgan.fit(train_data)"
   ]
  },
  {
   "cell_type": "code",
   "execution_count": null,
   "metadata": {},
   "outputs": [],
   "source": [
    "synthesizer_ctgan.get_lose_values()"
   ]
  },
  {
   "cell_type": "markdown",
   "metadata": {},
   "source": [
    "我們可以畫出 Generator 與 Discriminator Loss 的比較，確認結果是否穩定。通常 Discriminator Loss 都會在 0 附近，而 Generator Loss 則是最終會趨於一穩定值（通常為負值）。"
   ]
  },
  {
   "cell_type": "code",
   "execution_count": 40,
   "metadata": {},
   "outputs": [
    {
     "data": {
      "image/png": "[encoded data removed]",
      "text/plain": [
       "<Figure size 640x480 with 1 Axes>"
      ]
     },
     "metadata": {},
     "output_type": "display_data"
    }
   ],
   "source": [
    "df_ctgan_loss = synthesizer_ctgan.get_loss_values()\n",
    "\n",
    "plt.plot(df_ctgan_loss['Generator Loss'], label='Generator Loss')\n",
    "plt.plot(df_ctgan_loss['Discriminator Loss'], label='Discriminator Loss')\n",
    "plt.hlines(0, 0, df_ctgan_loss.shape[0], colors='gray', linestyles='dashed')\n",
    "plt.xlabel('Epochs')\n",
    "plt.ylabel('Loss')\n",
    "plt.title('CTGAN Loss')\n",
    "plt.legend()\n",
    "plt.show()"
   ]
  },
  {
   "cell_type": "code",
   "execution_count": 39,
   "metadata": {},
   "outputs": [],
   "source": [
    "# synthesizer_ctgan.save('my_ctgan_model.pkl')\n",
    "\n",
    "synthesizer_ctgan = CTGANSynthesizer.load('Prepared_data/my_ctgan_model.pkl')"
   ]
  },
  {
   "cell_type": "markdown",
   "metadata": {},
   "source": [
    "#### TVAE"
   ]
  },
  {
   "cell_type": "markdown",
   "metadata": {},
   "source": [
    "TVAE 有提供部分訓練參數供使用者進行調整。其詳細技術細節可參考[這篇 paper](https://arxiv.org/pdf/1907.00503)。同時 SDV 也有提供相關的[參數調整建議](https://github.com/sdv-dev/SDV/discussions/980)以及[模型解讀方法](https://datacebo.com/blog/interpreting-ctgan-progress/)。"
   ]
  },
  {
   "cell_type": "code",
   "execution_count": null,
   "metadata": {},
   "outputs": [],
   "source": [
    "synthesizer_tvae = TVAESynthesizer(metadata=metadata, epochs=500)\n",
    "\n",
    "synthesizer_tvae.auto_assign_transformers(train_data)\n",
    "\n",
    "synthesizer_tvae.update_transformers(column_name_to_transformer={\n",
    "    '姓名': AnonymizedFaker(provider_name='person', function_name='name',\n",
    "                           locales='zh_TW', \n",
    "                           missing_value_generation=None),\n",
    "    '身分證字號': AnonymizedFaker(provider_name='ssn', function_name='ssn',\n",
    "                            locales='zh_TW', cardinality_rule='match',\n",
    "                             missing_value_generation=None),\n",
    "    '郵遞區號': AnonymizedFaker(function_name='numerify',\n",
    "                            function_kwargs={'text': '%#####'},\n",
    "                             missing_value_generation=None)\n",
    "    }\n",
    ")\n",
    "\n",
    "synthesizer_tvae.add_constraints(constraints=[loan_constraint])"
   ]
  },
  {
   "cell_type": "code",
   "execution_count": null,
   "metadata": {},
   "outputs": [],
   "source": [
    "# 10 min 52.0 sec\n",
    "\n",
    "synthesizer_tvae.fit(train_data)"
   ]
  },
  {
   "cell_type": "code",
   "execution_count": null,
   "metadata": {},
   "outputs": [],
   "source": [
    "synthesizer_tvae.get_lose_values()"
   ]
  },
  {
   "cell_type": "markdown",
   "metadata": {},
   "source": [
    "在此只呈現出其中一個 batch 的結果。理想上 Loss 應趨近於一穩定值（通常為負值）。"
   ]
  },
  {
   "cell_type": "code",
   "execution_count": 54,
   "metadata": {},
   "outputs": [
    {
     "data": {
      "image/png": "[encoded data removed]",
      "text/plain": [
       "<Figure size 640x480 with 1 Axes>"
      ]
     },
     "metadata": {},
     "output_type": "display_data"
    }
   ],
   "source": [
    "df_tvae_loss = synthesizer_tvae.get_loss_values()\n",
    "\n",
    "plt.plot(df_tvae_loss.loc[df_tvae_loss.Batch == 0]['Epoch'], df_tvae_loss.loc[df_tvae_loss.Batch == 0]['Loss'])\n",
    "plt.hlines(0, 0, 501, colors='gray', linestyles='dashed')\n",
    "plt.xlabel('Epochs')\n",
    "plt.ylabel('Loss')\n",
    "plt.title('TVAE Loss')\n",
    "plt.show()"
   ]
  },
  {
   "cell_type": "code",
   "execution_count": 53,
   "metadata": {},
   "outputs": [],
   "source": [
    "# synthesizer_tvae.save('my_tvae_model.pkl')\n",
    "\n",
    "synthesizer_tvae = TVAESynthesizer.load('Prepared_data/my_tvae_model.pkl')"
   ]
  },
  {
   "cell_type": "markdown",
   "metadata": {},
   "source": [
    "## 抽樣"
   ]
  },
  {
   "cell_type": "markdown",
   "metadata": {},
   "source": [
    "當模型訓練好之後，就可以使用模型生成合成資料。此步驟稱為「抽樣」。SDV 提供兩種不同目的的抽樣方式：一般目的抽樣與條件抽樣。以下將分別介紹。在範例中皆使用 Gaussian Copula 合成器作為示範。"
   ]
  },
  {
   "cell_type": "markdown",
   "metadata": {},
   "source": [
    "### 一般目的抽樣\n",
    "\n",
    "在一般情況下，抽樣的目的即是為了產生與原始資料相近的資料。使用 `sample()` 方法即可達成，需指定欲生成的資料筆數（`num_rows`），也可以指定 `batch_size`, `max_tries_per_batch` 來決定每次生成資料的數量。也可以利用 `output_file_path` 將資料儲存下來。"
   ]
  },
  {
   "cell_type": "code",
   "execution_count": 42,
   "metadata": {},
   "outputs": [
    {
     "name": "stderr",
     "output_type": "stream",
     "text": [
      "Sampling rows: 100%|██████████| 80000/80000 [00:06<00:00, 11898.67it/s]\n"
     ]
    }
   ],
   "source": [
    "synthetic_data_gaussian = synthesizer_gaussian.sample(num_rows=train_data.shape[0], batch_size=500)"
   ]
  },
  {
   "cell_type": "code",
   "execution_count": 46,
   "metadata": {},
   "outputs": [
    {
     "data": {
      "text/html": [
       "<div>\n",
       "<style scoped>\n",
       "    .dataframe tbody tr th:only-of-type {\n",
       "        vertical-align: middle;\n",
       "    }\n",
       "\n",
       "    .dataframe tbody tr th {\n",
       "        vertical-align: top;\n",
       "    }\n",
       "\n",
       "    .dataframe thead th {\n",
       "        text-align: right;\n",
       "    }\n",
       "</style>\n",
       "<table border=\"1\" class=\"dataframe\">\n",
       "  <thead>\n",
       "    <tr style=\"text-align: right;\">\n",
       "      <th></th>\n",
       "      <th>姓名</th>\n",
       "      <th>身分證字號</th>\n",
       "      <th>性別</th>\n",
       "      <th>生日</th>\n",
       "      <th>郵遞區號</th>\n",
       "      <th>年收入-萬</th>\n",
       "      <th>貸款申請日</th>\n",
       "      <th>貸款金額-萬</th>\n",
       "    </tr>\n",
       "  </thead>\n",
       "  <tbody>\n",
       "    <tr>\n",
       "      <th>0</th>\n",
       "      <td>張佩君</td>\n",
       "      <td>X156467129</td>\n",
       "      <td>男</td>\n",
       "      <td>1990-07-18</td>\n",
       "      <td>849715</td>\n",
       "      <td>131</td>\n",
       "      <td>2023-09-09</td>\n",
       "      <td>13</td>\n",
       "    </tr>\n",
       "    <tr>\n",
       "      <th>1</th>\n",
       "      <td>林詩涵</td>\n",
       "      <td>Q200653543</td>\n",
       "      <td>男</td>\n",
       "      <td>1995-03-06</td>\n",
       "      <td>731247</td>\n",
       "      <td>71</td>\n",
       "      <td>2024-06-26</td>\n",
       "      <td>9</td>\n",
       "    </tr>\n",
       "    <tr>\n",
       "      <th>2</th>\n",
       "      <td>劉淑慧</td>\n",
       "      <td>N290569676</td>\n",
       "      <td>女</td>\n",
       "      <td>1987-06-01</td>\n",
       "      <td>432847</td>\n",
       "      <td>173</td>\n",
       "      <td>2022-06-07</td>\n",
       "      <td>9</td>\n",
       "    </tr>\n",
       "    <tr>\n",
       "      <th>3</th>\n",
       "      <td>陸淑芬</td>\n",
       "      <td>B189054288</td>\n",
       "      <td>女</td>\n",
       "      <td>1996-08-22</td>\n",
       "      <td>603987</td>\n",
       "      <td>56</td>\n",
       "      <td>2022-12-24</td>\n",
       "      <td>9</td>\n",
       "    </tr>\n",
       "    <tr>\n",
       "      <th>4</th>\n",
       "      <td>王羽</td>\n",
       "      <td>Y170186695</td>\n",
       "      <td>女</td>\n",
       "      <td>1991-02-16</td>\n",
       "      <td>813798</td>\n",
       "      <td>167</td>\n",
       "      <td>2022-11-09</td>\n",
       "      <td>9</td>\n",
       "    </tr>\n",
       "    <tr>\n",
       "      <th>5</th>\n",
       "      <td>劉淑娟</td>\n",
       "      <td>U159226110</td>\n",
       "      <td>男</td>\n",
       "      <td>1986-11-04</td>\n",
       "      <td>137049</td>\n",
       "      <td>190</td>\n",
       "      <td>2023-02-23</td>\n",
       "      <td>9</td>\n",
       "    </tr>\n",
       "    <tr>\n",
       "      <th>6</th>\n",
       "      <td>楊傑克</td>\n",
       "      <td>A182180319</td>\n",
       "      <td>女</td>\n",
       "      <td>2000-03-30</td>\n",
       "      <td>459423</td>\n",
       "      <td>111</td>\n",
       "      <td>2023-08-02</td>\n",
       "      <td>9</td>\n",
       "    </tr>\n",
       "    <tr>\n",
       "      <th>7</th>\n",
       "      <td>楊琬婷</td>\n",
       "      <td>B220057689</td>\n",
       "      <td>女</td>\n",
       "      <td>1989-11-21</td>\n",
       "      <td>127864</td>\n",
       "      <td>37</td>\n",
       "      <td>2021-03-27</td>\n",
       "      <td>9</td>\n",
       "    </tr>\n",
       "    <tr>\n",
       "      <th>8</th>\n",
       "      <td>王俊賢</td>\n",
       "      <td>E231565695</td>\n",
       "      <td>女</td>\n",
       "      <td>1998-01-26</td>\n",
       "      <td>688612</td>\n",
       "      <td>113</td>\n",
       "      <td>2023-11-09</td>\n",
       "      <td>9</td>\n",
       "    </tr>\n",
       "    <tr>\n",
       "      <th>9</th>\n",
       "      <td>彭筱涵</td>\n",
       "      <td>P169543650</td>\n",
       "      <td>女</td>\n",
       "      <td>1998-12-01</td>\n",
       "      <td>888851</td>\n",
       "      <td>112</td>\n",
       "      <td>2024-10-12</td>\n",
       "      <td>9</td>\n",
       "    </tr>\n",
       "  </tbody>\n",
       "</table>\n",
       "</div>"
      ],
      "text/plain": [
       "    姓名       身分證字號 性別         生日    郵遞區號  年收入-萬      貸款申請日  貸款金額-萬\n",
       "0  張佩君  X156467129  男 1990-07-18  849715    131 2023-09-09      13\n",
       "1  林詩涵  Q200653543  男 1995-03-06  731247     71 2024-06-26       9\n",
       "2  劉淑慧  N290569676  女 1987-06-01  432847    173 2022-06-07       9\n",
       "3  陸淑芬  B189054288  女 1996-08-22  603987     56 2022-12-24       9\n",
       "4   王羽  Y170186695  女 1991-02-16  813798    167 2022-11-09       9\n",
       "5  劉淑娟  U159226110  男 1986-11-04  137049    190 2023-02-23       9\n",
       "6  楊傑克  A182180319  女 2000-03-30  459423    111 2023-08-02       9\n",
       "7  楊琬婷  B220057689  女 1989-11-21  127864     37 2021-03-27       9\n",
       "8  王俊賢  E231565695  女 1998-01-26  688612    113 2023-11-09       9\n",
       "9  彭筱涵  P169543650  女 1998-12-01  888851    112 2024-10-12       9"
      ]
     },
     "execution_count": 46,
     "metadata": {},
     "output_type": "execute_result"
    }
   ],
   "source": [
    "synthetic_data_gaussian.head(10)"
   ]
  },
  {
   "cell_type": "markdown",
   "metadata": {},
   "source": [
    "每次抽樣的結果都是隨機的，不過透過 `reset_sampling()` 可以重置整個隨機過程，因此使用後可以讓合成器回到一開始的狀態，抽樣出相同的資料。"
   ]
  },
  {
   "cell_type": "code",
   "execution_count": 49,
   "metadata": {},
   "outputs": [],
   "source": [
    "# 第二次抽樣\n",
    "synthesizer_gaussian.reset_sampling()"
   ]
  },
  {
   "cell_type": "code",
   "execution_count": 52,
   "metadata": {},
   "outputs": [
    {
     "data": {
      "text/html": [
       "<div>\n",
       "<style scoped>\n",
       "    .dataframe tbody tr th:only-of-type {\n",
       "        vertical-align: middle;\n",
       "    }\n",
       "\n",
       "    .dataframe tbody tr th {\n",
       "        vertical-align: top;\n",
       "    }\n",
       "\n",
       "    .dataframe thead th {\n",
       "        text-align: right;\n",
       "    }\n",
       "</style>\n",
       "<table border=\"1\" class=\"dataframe\">\n",
       "  <thead>\n",
       "    <tr style=\"text-align: right;\">\n",
       "      <th></th>\n",
       "      <th>姓名</th>\n",
       "      <th>身分證字號</th>\n",
       "      <th>性別</th>\n",
       "      <th>生日</th>\n",
       "      <th>郵遞區號</th>\n",
       "      <th>年收入-萬</th>\n",
       "      <th>貸款申請日</th>\n",
       "      <th>貸款金額-萬</th>\n",
       "    </tr>\n",
       "  </thead>\n",
       "  <tbody>\n",
       "    <tr>\n",
       "      <th>0</th>\n",
       "      <td>張佩君</td>\n",
       "      <td>X156467129</td>\n",
       "      <td>男</td>\n",
       "      <td>1990-07-18</td>\n",
       "      <td>849715</td>\n",
       "      <td>131</td>\n",
       "      <td>2023-09-09</td>\n",
       "      <td>13</td>\n",
       "    </tr>\n",
       "    <tr>\n",
       "      <th>1</th>\n",
       "      <td>林詩涵</td>\n",
       "      <td>Q200653543</td>\n",
       "      <td>男</td>\n",
       "      <td>1995-03-06</td>\n",
       "      <td>731247</td>\n",
       "      <td>71</td>\n",
       "      <td>2024-06-26</td>\n",
       "      <td>9</td>\n",
       "    </tr>\n",
       "    <tr>\n",
       "      <th>2</th>\n",
       "      <td>劉淑慧</td>\n",
       "      <td>N290569676</td>\n",
       "      <td>女</td>\n",
       "      <td>1987-06-01</td>\n",
       "      <td>432847</td>\n",
       "      <td>173</td>\n",
       "      <td>2022-06-07</td>\n",
       "      <td>9</td>\n",
       "    </tr>\n",
       "    <tr>\n",
       "      <th>3</th>\n",
       "      <td>陸淑芬</td>\n",
       "      <td>B189054288</td>\n",
       "      <td>女</td>\n",
       "      <td>1996-08-22</td>\n",
       "      <td>603987</td>\n",
       "      <td>56</td>\n",
       "      <td>2022-12-24</td>\n",
       "      <td>9</td>\n",
       "    </tr>\n",
       "    <tr>\n",
       "      <th>4</th>\n",
       "      <td>王羽</td>\n",
       "      <td>Y170186695</td>\n",
       "      <td>女</td>\n",
       "      <td>1991-02-16</td>\n",
       "      <td>813798</td>\n",
       "      <td>167</td>\n",
       "      <td>2022-11-09</td>\n",
       "      <td>9</td>\n",
       "    </tr>\n",
       "    <tr>\n",
       "      <th>5</th>\n",
       "      <td>劉淑娟</td>\n",
       "      <td>U159226110</td>\n",
       "      <td>男</td>\n",
       "      <td>1986-11-04</td>\n",
       "      <td>137049</td>\n",
       "      <td>190</td>\n",
       "      <td>2023-02-23</td>\n",
       "      <td>9</td>\n",
       "    </tr>\n",
       "    <tr>\n",
       "      <th>6</th>\n",
       "      <td>楊傑克</td>\n",
       "      <td>A182180319</td>\n",
       "      <td>女</td>\n",
       "      <td>2000-03-30</td>\n",
       "      <td>459423</td>\n",
       "      <td>111</td>\n",
       "      <td>2023-08-02</td>\n",
       "      <td>9</td>\n",
       "    </tr>\n",
       "    <tr>\n",
       "      <th>7</th>\n",
       "      <td>楊琬婷</td>\n",
       "      <td>B220057689</td>\n",
       "      <td>女</td>\n",
       "      <td>1989-11-21</td>\n",
       "      <td>127864</td>\n",
       "      <td>37</td>\n",
       "      <td>2021-03-27</td>\n",
       "      <td>9</td>\n",
       "    </tr>\n",
       "    <tr>\n",
       "      <th>8</th>\n",
       "      <td>王俊賢</td>\n",
       "      <td>E231565695</td>\n",
       "      <td>女</td>\n",
       "      <td>1998-01-26</td>\n",
       "      <td>688612</td>\n",
       "      <td>113</td>\n",
       "      <td>2023-11-09</td>\n",
       "      <td>9</td>\n",
       "    </tr>\n",
       "    <tr>\n",
       "      <th>9</th>\n",
       "      <td>彭筱涵</td>\n",
       "      <td>P169543650</td>\n",
       "      <td>女</td>\n",
       "      <td>1998-12-01</td>\n",
       "      <td>888851</td>\n",
       "      <td>112</td>\n",
       "      <td>2024-10-12</td>\n",
       "      <td>9</td>\n",
       "    </tr>\n",
       "  </tbody>\n",
       "</table>\n",
       "</div>"
      ],
      "text/plain": [
       "    姓名       身分證字號 性別         生日    郵遞區號  年收入-萬      貸款申請日  貸款金額-萬\n",
       "0  張佩君  X156467129  男 1990-07-18  849715    131 2023-09-09      13\n",
       "1  林詩涵  Q200653543  男 1995-03-06  731247     71 2024-06-26       9\n",
       "2  劉淑慧  N290569676  女 1987-06-01  432847    173 2022-06-07       9\n",
       "3  陸淑芬  B189054288  女 1996-08-22  603987     56 2022-12-24       9\n",
       "4   王羽  Y170186695  女 1991-02-16  813798    167 2022-11-09       9\n",
       "5  劉淑娟  U159226110  男 1986-11-04  137049    190 2023-02-23       9\n",
       "6  楊傑克  A182180319  女 2000-03-30  459423    111 2023-08-02       9\n",
       "7  楊琬婷  B220057689  女 1989-11-21  127864     37 2021-03-27       9\n",
       "8  王俊賢  E231565695  女 1998-01-26  688612    113 2023-11-09       9\n",
       "9  彭筱涵  P169543650  女 1998-12-01  888851    112 2024-10-12       9"
      ]
     },
     "execution_count": 52,
     "metadata": {},
     "output_type": "execute_result"
    }
   ],
   "source": [
    "synthetic_data_gaussian.head(10)"
   ]
  },
  {
   "cell_type": "code",
   "execution_count": null,
   "metadata": {},
   "outputs": [],
   "source": [
    "synthesizer_gaussian.reset_sampling()"
   ]
  },
  {
   "cell_type": "code",
   "execution_count": null,
   "metadata": {},
   "outputs": [],
   "source": [
    "synthetic_data_gaussian3 = synthesizer_gaussian.sample(num_rows=train_data.shape[0], batch_size=500)"
   ]
  },
  {
   "cell_type": "code",
   "execution_count": null,
   "metadata": {},
   "outputs": [],
   "source": [
    "synthetic_data_gaussian3.head(10)"
   ]
  },
  {
   "cell_type": "markdown",
   "metadata": {},
   "source": [
    "可以觀察到以上結果跟一開始一樣。"
   ]
  },
  {
   "cell_type": "markdown",
   "metadata": {},
   "source": [
    "### 條件抽樣\n",
    "\n",
    "在有些狀況下（例如：生成假設情境、資料去偏誤、推論未知值等），我們會希望合成資料中含有特定的值，這種目的可透過條件抽樣來達成。條件抽樣又可分為兩種：給定條件生成、給定部分欄位生成。以下將分別示範。\n",
    "\n",
    "在給定條件生成的情況下，我們需要先建立 `Condition` 類別，再將此類別物件作為 `sample_from_conditions` 的參數，以便進行條件抽樣。"
   ]
  },
  {
   "cell_type": "markdown",
   "metadata": {},
   "source": [
    "假設今天我們想要生成「貸款 10 萬元的男性」與「貸款 10 萬元的女性」各 50 筆資料，則可以透過以下的方式："
   ]
  },
  {
   "cell_type": "code",
   "execution_count": 55,
   "metadata": {},
   "outputs": [],
   "source": [
    "male_with_loan_10 = Condition(\n",
    "    num_rows=50,\n",
    "    column_values={'性別': '男', '貸款金額-萬': 10 }\n",
    ")\n",
    "\n",
    "female_with_loan_10 = Condition(\n",
    "    num_rows=50,\n",
    "    column_values={'性別': '女', '貸款金額-萬': 10 }\n",
    ")"
   ]
  },
  {
   "cell_type": "markdown",
   "metadata": {},
   "source": [
    "`sample_from_conditions()` 也有 `batch_size`, `max_tries_per_batch`, `output_file_path` 參數可供使用。"
   ]
  },
  {
   "cell_type": "code",
   "execution_count": 56,
   "metadata": {},
   "outputs": [
    {
     "name": "stderr",
     "output_type": "stream",
     "text": [
      "Sampling conditions: 100%|██████████| 100/100 [00:00<00:00, 655.26it/s]\n"
     ]
    }
   ],
   "source": [
    "synthetic_data_condition = synthesizer_gaussian.sample_from_conditions(conditions=[male_with_loan_10, female_with_loan_10])"
   ]
  },
  {
   "cell_type": "code",
   "execution_count": 57,
   "metadata": {},
   "outputs": [
    {
     "data": {
      "text/html": [
       "<div>\n",
       "<style scoped>\n",
       "    .dataframe tbody tr th:only-of-type {\n",
       "        vertical-align: middle;\n",
       "    }\n",
       "\n",
       "    .dataframe tbody tr th {\n",
       "        vertical-align: top;\n",
       "    }\n",
       "\n",
       "    .dataframe thead th {\n",
       "        text-align: right;\n",
       "    }\n",
       "</style>\n",
       "<table border=\"1\" class=\"dataframe\">\n",
       "  <thead>\n",
       "    <tr style=\"text-align: right;\">\n",
       "      <th></th>\n",
       "      <th>姓名</th>\n",
       "      <th>身分證字號</th>\n",
       "      <th>性別</th>\n",
       "      <th>生日</th>\n",
       "      <th>郵遞區號</th>\n",
       "      <th>年收入-萬</th>\n",
       "      <th>貸款申請日</th>\n",
       "      <th>貸款金額-萬</th>\n",
       "    </tr>\n",
       "  </thead>\n",
       "  <tbody>\n",
       "    <tr>\n",
       "      <th>0</th>\n",
       "      <td>劉雅筑</td>\n",
       "      <td>L227195108</td>\n",
       "      <td>男</td>\n",
       "      <td>1998-12-20</td>\n",
       "      <td>213853</td>\n",
       "      <td>73</td>\n",
       "      <td>2022-12-05</td>\n",
       "      <td>10</td>\n",
       "    </tr>\n",
       "    <tr>\n",
       "      <th>1</th>\n",
       "      <td>王柏翰</td>\n",
       "      <td>P196270337</td>\n",
       "      <td>男</td>\n",
       "      <td>1984-08-27</td>\n",
       "      <td>975424</td>\n",
       "      <td>177</td>\n",
       "      <td>2023-12-01</td>\n",
       "      <td>10</td>\n",
       "    </tr>\n",
       "    <tr>\n",
       "      <th>2</th>\n",
       "      <td>葛沖</td>\n",
       "      <td>Y231670767</td>\n",
       "      <td>男</td>\n",
       "      <td>1988-07-27</td>\n",
       "      <td>581822</td>\n",
       "      <td>68</td>\n",
       "      <td>2025-01-13</td>\n",
       "      <td>10</td>\n",
       "    </tr>\n",
       "    <tr>\n",
       "      <th>3</th>\n",
       "      <td>林雅玲</td>\n",
       "      <td>S299509670</td>\n",
       "      <td>男</td>\n",
       "      <td>1988-12-19</td>\n",
       "      <td>888114</td>\n",
       "      <td>44</td>\n",
       "      <td>2022-03-08</td>\n",
       "      <td>10</td>\n",
       "    </tr>\n",
       "    <tr>\n",
       "      <th>4</th>\n",
       "      <td>楊婷婷</td>\n",
       "      <td>Q185364696</td>\n",
       "      <td>男</td>\n",
       "      <td>1986-09-24</td>\n",
       "      <td>759663</td>\n",
       "      <td>89</td>\n",
       "      <td>2022-07-10</td>\n",
       "      <td>10</td>\n",
       "    </tr>\n",
       "    <tr>\n",
       "      <th>5</th>\n",
       "      <td>李中山</td>\n",
       "      <td>C192866908</td>\n",
       "      <td>男</td>\n",
       "      <td>1985-01-16</td>\n",
       "      <td>908730</td>\n",
       "      <td>58</td>\n",
       "      <td>2023-12-10</td>\n",
       "      <td>10</td>\n",
       "    </tr>\n",
       "    <tr>\n",
       "      <th>6</th>\n",
       "      <td>郭淑娟</td>\n",
       "      <td>B117671824</td>\n",
       "      <td>男</td>\n",
       "      <td>1994-03-07</td>\n",
       "      <td>268453</td>\n",
       "      <td>136</td>\n",
       "      <td>2023-04-06</td>\n",
       "      <td>10</td>\n",
       "    </tr>\n",
       "    <tr>\n",
       "      <th>7</th>\n",
       "      <td>劉郁婷</td>\n",
       "      <td>C272302512</td>\n",
       "      <td>男</td>\n",
       "      <td>2002-02-09</td>\n",
       "      <td>193542</td>\n",
       "      <td>86</td>\n",
       "      <td>2023-06-09</td>\n",
       "      <td>10</td>\n",
       "    </tr>\n",
       "    <tr>\n",
       "      <th>8</th>\n",
       "      <td>張怡伶</td>\n",
       "      <td>X138332909</td>\n",
       "      <td>男</td>\n",
       "      <td>1983-10-17</td>\n",
       "      <td>487646</td>\n",
       "      <td>52</td>\n",
       "      <td>2023-11-06</td>\n",
       "      <td>10</td>\n",
       "    </tr>\n",
       "    <tr>\n",
       "      <th>9</th>\n",
       "      <td>李欣怡</td>\n",
       "      <td>U182245787</td>\n",
       "      <td>男</td>\n",
       "      <td>1994-06-02</td>\n",
       "      <td>309834</td>\n",
       "      <td>143</td>\n",
       "      <td>2023-12-09</td>\n",
       "      <td>10</td>\n",
       "    </tr>\n",
       "  </tbody>\n",
       "</table>\n",
       "</div>"
      ],
      "text/plain": [
       "    姓名       身分證字號 性別         生日    郵遞區號  年收入-萬      貸款申請日  貸款金額-萬\n",
       "0  劉雅筑  L227195108  男 1998-12-20  213853     73 2022-12-05      10\n",
       "1  王柏翰  P196270337  男 1984-08-27  975424    177 2023-12-01      10\n",
       "2   葛沖  Y231670767  男 1988-07-27  581822     68 2025-01-13      10\n",
       "3  林雅玲  S299509670  男 1988-12-19  888114     44 2022-03-08      10\n",
       "4  楊婷婷  Q185364696  男 1986-09-24  759663     89 2022-07-10      10\n",
       "5  李中山  C192866908  男 1985-01-16  908730     58 2023-12-10      10\n",
       "6  郭淑娟  B117671824  男 1994-03-07  268453    136 2023-04-06      10\n",
       "7  劉郁婷  C272302512  男 2002-02-09  193542     86 2023-06-09      10\n",
       "8  張怡伶  X138332909  男 1983-10-17  487646     52 2023-11-06      10\n",
       "9  李欣怡  U182245787  男 1994-06-02  309834    143 2023-12-09      10"
      ]
     },
     "execution_count": 57,
     "metadata": {},
     "output_type": "execute_result"
    }
   ],
   "source": [
    "synthetic_data_condition.head(10)"
   ]
  },
  {
   "cell_type": "code",
   "execution_count": 58,
   "metadata": {},
   "outputs": [
    {
     "data": {
      "text/plain": [
       "性別  貸款金額-萬\n",
       "女   10        50\n",
       "男   10        50\n",
       "dtype: int64"
      ]
     },
     "execution_count": 58,
     "metadata": {},
     "output_type": "execute_result"
    }
   ],
   "source": [
    "synthetic_data_condition.groupby(['性別', '貸款金額-萬']).size()"
   ]
  },
  {
   "cell_type": "markdown",
   "metadata": {},
   "source": [
    "如果我們已經知道部分欄位的資訊，則不須使用 `Condition` 類別，而是利用 `sample_remaining_columns` 並在 `known_columns` 參數中給予 `pd.DataFrame` 讓生成器自動補全剩下的欄位。例如我們有五筆關於性別跟年收入的資料，想補全剩下的欄位，則操作如下："
   ]
  },
  {
   "cell_type": "code",
   "execution_count": 59,
   "metadata": {},
   "outputs": [],
   "source": [
    "# 以下是我們擁有的不完整資料\n",
    "\n",
    "incomplete_data = pd.DataFrame({'性別': ['男', '女', '男', '女', '男'], '年收入-萬': [100, 90, 80, 85, 77]})"
   ]
  },
  {
   "cell_type": "code",
   "execution_count": 60,
   "metadata": {},
   "outputs": [
    {
     "data": {
      "text/html": [
       "<div>\n",
       "<style scoped>\n",
       "    .dataframe tbody tr th:only-of-type {\n",
       "        vertical-align: middle;\n",
       "    }\n",
       "\n",
       "    .dataframe tbody tr th {\n",
       "        vertical-align: top;\n",
       "    }\n",
       "\n",
       "    .dataframe thead th {\n",
       "        text-align: right;\n",
       "    }\n",
       "</style>\n",
       "<table border=\"1\" class=\"dataframe\">\n",
       "  <thead>\n",
       "    <tr style=\"text-align: right;\">\n",
       "      <th></th>\n",
       "      <th>性別</th>\n",
       "      <th>年收入-萬</th>\n",
       "    </tr>\n",
       "  </thead>\n",
       "  <tbody>\n",
       "    <tr>\n",
       "      <th>0</th>\n",
       "      <td>男</td>\n",
       "      <td>100</td>\n",
       "    </tr>\n",
       "    <tr>\n",
       "      <th>1</th>\n",
       "      <td>女</td>\n",
       "      <td>90</td>\n",
       "    </tr>\n",
       "    <tr>\n",
       "      <th>2</th>\n",
       "      <td>男</td>\n",
       "      <td>80</td>\n",
       "    </tr>\n",
       "    <tr>\n",
       "      <th>3</th>\n",
       "      <td>女</td>\n",
       "      <td>85</td>\n",
       "    </tr>\n",
       "    <tr>\n",
       "      <th>4</th>\n",
       "      <td>男</td>\n",
       "      <td>77</td>\n",
       "    </tr>\n",
       "  </tbody>\n",
       "</table>\n",
       "</div>"
      ],
      "text/plain": [
       "  性別  年收入-萬\n",
       "0  男    100\n",
       "1  女     90\n",
       "2  男     80\n",
       "3  女     85\n",
       "4  男     77"
      ]
     },
     "execution_count": 60,
     "metadata": {},
     "output_type": "execute_result"
    }
   ],
   "source": [
    "incomplete_data"
   ]
  },
  {
   "cell_type": "code",
   "execution_count": 62,
   "metadata": {},
   "outputs": [
    {
     "name": "stderr",
     "output_type": "stream",
     "text": [
      "Sampling remaining columns: 100%|██████████| 5/5 [00:00<00:00, 18.15it/s]\n"
     ]
    }
   ],
   "source": [
    "synthetic_data_complete = synthesizer_gaussian.sample_remaining_columns(known_columns=incomplete_data)"
   ]
  },
  {
   "cell_type": "code",
   "execution_count": 63,
   "metadata": {},
   "outputs": [
    {
     "data": {
      "text/html": [
       "<div>\n",
       "<style scoped>\n",
       "    .dataframe tbody tr th:only-of-type {\n",
       "        vertical-align: middle;\n",
       "    }\n",
       "\n",
       "    .dataframe tbody tr th {\n",
       "        vertical-align: top;\n",
       "    }\n",
       "\n",
       "    .dataframe thead th {\n",
       "        text-align: right;\n",
       "    }\n",
       "</style>\n",
       "<table border=\"1\" class=\"dataframe\">\n",
       "  <thead>\n",
       "    <tr style=\"text-align: right;\">\n",
       "      <th></th>\n",
       "      <th>姓名</th>\n",
       "      <th>身分證字號</th>\n",
       "      <th>性別</th>\n",
       "      <th>生日</th>\n",
       "      <th>郵遞區號</th>\n",
       "      <th>年收入-萬</th>\n",
       "      <th>貸款申請日</th>\n",
       "      <th>貸款金額-萬</th>\n",
       "    </tr>\n",
       "  </thead>\n",
       "  <tbody>\n",
       "    <tr>\n",
       "      <th>0</th>\n",
       "      <td>劉依婷</td>\n",
       "      <td>P294869043</td>\n",
       "      <td>男</td>\n",
       "      <td>1994-05-17</td>\n",
       "      <td>766928</td>\n",
       "      <td>100</td>\n",
       "      <td>2022-11-11</td>\n",
       "      <td>9</td>\n",
       "    </tr>\n",
       "    <tr>\n",
       "      <th>1</th>\n",
       "      <td>方雅慧</td>\n",
       "      <td>Q155173525</td>\n",
       "      <td>女</td>\n",
       "      <td>1985-02-09</td>\n",
       "      <td>429480</td>\n",
       "      <td>90</td>\n",
       "      <td>2022-12-30</td>\n",
       "      <td>9</td>\n",
       "    </tr>\n",
       "    <tr>\n",
       "      <th>2</th>\n",
       "      <td>崔雅婷</td>\n",
       "      <td>D216553456</td>\n",
       "      <td>男</td>\n",
       "      <td>1984-07-20</td>\n",
       "      <td>327471</td>\n",
       "      <td>80</td>\n",
       "      <td>2024-03-13</td>\n",
       "      <td>11</td>\n",
       "    </tr>\n",
       "    <tr>\n",
       "      <th>3</th>\n",
       "      <td>葉欣怡</td>\n",
       "      <td>R235891678</td>\n",
       "      <td>女</td>\n",
       "      <td>1999-10-26</td>\n",
       "      <td>881975</td>\n",
       "      <td>85</td>\n",
       "      <td>2024-09-03</td>\n",
       "      <td>9</td>\n",
       "    </tr>\n",
       "    <tr>\n",
       "      <th>4</th>\n",
       "      <td>劉家瑋</td>\n",
       "      <td>O159592820</td>\n",
       "      <td>男</td>\n",
       "      <td>1991-06-26</td>\n",
       "      <td>511975</td>\n",
       "      <td>77</td>\n",
       "      <td>2024-04-15</td>\n",
       "      <td>10</td>\n",
       "    </tr>\n",
       "  </tbody>\n",
       "</table>\n",
       "</div>"
      ],
      "text/plain": [
       "    姓名       身分證字號 性別         生日    郵遞區號  年收入-萬      貸款申請日  貸款金額-萬\n",
       "0  劉依婷  P294869043  男 1994-05-17  766928    100 2022-11-11       9\n",
       "1  方雅慧  Q155173525  女 1985-02-09  429480     90 2022-12-30       9\n",
       "2  崔雅婷  D216553456  男 1984-07-20  327471     80 2024-03-13      11\n",
       "3  葉欣怡  R235891678  女 1999-10-26  881975     85 2024-09-03       9\n",
       "4  劉家瑋  O159592820  男 1991-06-26  511975     77 2024-04-15      10"
      ]
     },
     "execution_count": 63,
     "metadata": {},
     "output_type": "execute_result"
    }
   ],
   "source": [
    "synthetic_data_complete"
   ]
  },
  {
   "cell_type": "markdown",
   "metadata": {},
   "source": [
    "`sample_remaining_columns()` 也有 `batch_size`, `max_tries_per_batch`, `output_file_path` 參數可供使用。"
   ]
  },
  {
   "cell_type": "markdown",
   "metadata": {},
   "source": [
    "以上兩種條件抽樣方法都會保留模型學習到的資料特徵。需要注意的是，在某些情況下，合成器可能無法按照使用者的條件生成出所有的資料，尤其是 CTGAN 和 TVAE，因為它們是採用拒絕抽樣法來進行條件抽樣，在給定條件出現機會過小的情形下，其抽樣效率非常差。因此若遇到這種情形，建議可以使用較大的 `batch_size` 或 `max_tries_per_batch`，或者改用 Gaussian Copula 進行資料合成。\n",
    "\n",
    "另外，使用限制的情形下，SDV 會採用拒絕抽樣法來符合限制，因此限制太多會導致執行效率變差。因此若遇到這種情形，建議可以使用較大的 `batch_size` 或 `max_tries_per_batch`，或者移除部分限制。\n",
    "\n",
    "最後，若是使用者設定的條件超出值域，且在合成器中 `enforce_min_max_values` 設為 `True`，會導致合成器無法抽樣出符合條件的資料。因此若遇到這種情形，需將 `enforce_min_max_values` 設為 `False`。"
   ]
  },
  {
   "cell_type": "markdown",
   "metadata": {
    "id": "RMM-My8vcmxq"
   },
   "source": [
    "# 評測\n",
    "\n",
    "當我們產生合成資料後，我們會想要了解合成資料的品質。合成資料的評估可包含以下幾個面向：保真度、保護力、實用性。保真度是指合成資料是否與原始資料在統計分配上相似，我們可以用 SDV 內建的 SDMetrics 子套件來進行評估。保護力則是指此資料的隱私風險高低，其中一種評估方法是使用 `anonymeter` 套件，它將隱私風險分為三種：指認性 (Singling Out)、連結性 (Linkability) 和推斷性 (Inference) 的風險，後續將會詳述。實用性則檢驗合成資料是否實用，意即是否適合用於取代原始資料來執行下游任務。後續將進行此三項指標的評測示範。"
   ]
  },
  {
   "cell_type": "code",
   "execution_count": null,
   "metadata": {},
   "outputs": [],
   "source": [
    "train_data = pd.read_csv('Prepared_data/train_data.csv')\n",
    "test_data = pd.read_csv('Prepared_data/test_data.csv')\n",
    "synthetic_data_gaussian = pd.read_csv('Prepared_data/synthetic_data_gaussian.csv')"
   ]
  },
  {
   "cell_type": "markdown",
   "metadata": {
    "id": "y33asbbscmxq"
   },
   "source": [
    "## 資料診斷：SDMetrics\n",
    "\n",
    "進行評測之前，我們會想要先確認一些更基本的性質：合成資料的資料格式（例如欄位數）是否跟原始資料相同？此前提成立後，再去進行其他諸如保真度、保護力的檢測才有意義。這部分也可以透過 SDV 內建的 SDMetrics 進行評估。評估的內容如下，其中 BoundaryAdherence 或 CategoryAdherence 會逐欄計算（根據欄位資料型態決定），而 KeyUniqueness 則是只有設為 Primary Key 的欄位才會進行計算。Data Validity 為所有計算值的平均，而 Data Structure 則為一單一分數。所有的值皆介於 0~1 (0~100%) 之間，越接近 1 越好。其中此指標理論上必須為 1。\n",
    "\n",
    "| Property | Metrics | Description |\n",
    "|---|---|---|\n",
    "| Data Validity | KeyUniqueness | 確認 Primary keys 是有值且不重複的。 |\n",
    "| Data Validity | BoundaryAdherence | 用於連續變項，合成資料所有值都在真實資料上下界中的比率 |\n",
    "| Data Validity | CategoryAdherence | 用於類別變項，合成資料所有類別都在真實資料中的比率 |\n",
    "| Data Structure | TableStructure | 確認原始資料與合成資料的欄位數是否一致 |"
   ]
  },
  {
   "cell_type": "code",
   "execution_count": 65,
   "metadata": {},
   "outputs": [
    {
     "name": "stdout",
     "output_type": "stream",
     "text": [
      "Generating report ...\n",
      "(1/2) Evaluating Data Validity: : 100%|██████████| 8/8 [00:00<00:00, 161.43it/s]\n",
      "(2/2) Evaluating Data Structure: : 100%|██████████| 1/1 [00:00<00:00, 420.52it/s]\n",
      "\n",
      "Overall Score: 96.1%\n",
      "\n",
      "Properties:\n",
      "- Data Validity: 92.2%\n",
      "- Data Structure: 100.0%\n"
     ]
    }
   ],
   "source": [
    "diagnostic_report = run_diagnostic(real_data=train_data, synthetic_data=synthetic_data_gaussian, metadata=metadata)"
   ]
  },
  {
   "cell_type": "code",
   "execution_count": 70,
   "metadata": {},
   "outputs": [
    {
     "data": {
      "text/html": [
       "<div>\n",
       "<style scoped>\n",
       "    .dataframe tbody tr th:only-of-type {\n",
       "        vertical-align: middle;\n",
       "    }\n",
       "\n",
       "    .dataframe tbody tr th {\n",
       "        vertical-align: top;\n",
       "    }\n",
       "\n",
       "    .dataframe thead th {\n",
       "        text-align: right;\n",
       "    }\n",
       "</style>\n",
       "<table border=\"1\" class=\"dataframe\">\n",
       "  <thead>\n",
       "    <tr style=\"text-align: right;\">\n",
       "      <th></th>\n",
       "      <th>Column</th>\n",
       "      <th>Metric</th>\n",
       "      <th>Score</th>\n",
       "    </tr>\n",
       "  </thead>\n",
       "  <tbody>\n",
       "    <tr>\n",
       "      <th>0</th>\n",
       "      <td>身分證字號</td>\n",
       "      <td>KeyUniqueness</td>\n",
       "      <td>1.000000</td>\n",
       "    </tr>\n",
       "    <tr>\n",
       "      <th>1</th>\n",
       "      <td>性別</td>\n",
       "      <td>CategoryAdherence</td>\n",
       "      <td>1.000000</td>\n",
       "    </tr>\n",
       "    <tr>\n",
       "      <th>2</th>\n",
       "      <td>生日</td>\n",
       "      <td>BoundaryAdherence</td>\n",
       "      <td>1.000000</td>\n",
       "    </tr>\n",
       "    <tr>\n",
       "      <th>3</th>\n",
       "      <td>年收入-萬</td>\n",
       "      <td>BoundaryAdherence</td>\n",
       "      <td>1.000000</td>\n",
       "    </tr>\n",
       "    <tr>\n",
       "      <th>4</th>\n",
       "      <td>貸款申請日</td>\n",
       "      <td>BoundaryAdherence</td>\n",
       "      <td>0.531825</td>\n",
       "    </tr>\n",
       "    <tr>\n",
       "      <th>5</th>\n",
       "      <td>貸款金額-萬</td>\n",
       "      <td>BoundaryAdherence</td>\n",
       "      <td>1.000000</td>\n",
       "    </tr>\n",
       "  </tbody>\n",
       "</table>\n",
       "</div>"
      ],
      "text/plain": [
       "   Column             Metric     Score\n",
       "0   身分證字號      KeyUniqueness  1.000000\n",
       "1      性別  CategoryAdherence  1.000000\n",
       "2      生日  BoundaryAdherence  1.000000\n",
       "3   年收入-萬  BoundaryAdherence  1.000000\n",
       "4   貸款申請日  BoundaryAdherence  0.531825\n",
       "5  貸款金額-萬  BoundaryAdherence  1.000000"
      ]
     },
     "execution_count": 70,
     "metadata": {},
     "output_type": "execute_result"
    }
   ],
   "source": [
    "diagnostic_report.get_details(property_name='Data Validity')"
   ]
  },
  {
   "cell_type": "code",
   "execution_count": 67,
   "metadata": {},
   "outputs": [
    {
     "data": {
      "text/html": [
       "<div>\n",
       "<style scoped>\n",
       "    .dataframe tbody tr th:only-of-type {\n",
       "        vertical-align: middle;\n",
       "    }\n",
       "\n",
       "    .dataframe tbody tr th {\n",
       "        vertical-align: top;\n",
       "    }\n",
       "\n",
       "    .dataframe thead th {\n",
       "        text-align: right;\n",
       "    }\n",
       "</style>\n",
       "<table border=\"1\" class=\"dataframe\">\n",
       "  <thead>\n",
       "    <tr style=\"text-align: right;\">\n",
       "      <th></th>\n",
       "      <th>Metric</th>\n",
       "      <th>Score</th>\n",
       "    </tr>\n",
       "  </thead>\n",
       "  <tbody>\n",
       "    <tr>\n",
       "      <th>0</th>\n",
       "      <td>TableStructure</td>\n",
       "      <td>1.0</td>\n",
       "    </tr>\n",
       "  </tbody>\n",
       "</table>\n",
       "</div>"
      ],
      "text/plain": [
       "           Metric  Score\n",
       "0  TableStructure    1.0"
      ]
     },
     "execution_count": 67,
     "metadata": {},
     "output_type": "execute_result"
    }
   ],
   "source": [
    "diagnostic_report.get_details(property_name='Data Structure')"
   ]
  },
  {
   "cell_type": "markdown",
   "metadata": {
    "id": "FNeUxdk2cmxq"
   },
   "source": [
    "## 保真度：SDMetrics\n",
    "\n",
    "在 SDV 中，保真度評估的指標如下。所有的值皆介於 0~1 (0~100%) 之間，越接近 1 代表保真度越好。100% 代表原始資料與合成資料的樣態完全一致，因此如果將原始資料與自身進行比較，分數必定為 100%。0% 則代表原始資料與合成資料的樣態完全不同。一般來說，保真度的分數絕對不會達到 100%，而是會介於 0~1 (0~100%) 之間的分數。評估方式如下，其中 Column Shapes 會逐欄比較計算，最後總分為為所有計算值的平均，而 Column Pair Trends 會以兩兩一組為單位比較計算，最後總分為為所有計算值的平均。\n",
    "\n",
    "| Property | Metrics | Description |\n",
    "|---|---|---|\n",
    "| Column Shapes | KSComplement | 用於連續變項，計算 $1 - \\text{Kolmogorov-Smirnov statistic}$ |\n",
    "| Column Shapes | TVComplement | 用於類別變項，計算 $1 -$ 全變差距離 (TVD, Total Variation Distance) |\n",
    "| Column Pair Trends | CorrelationSimilarity | 用於兩連續變項，比較原始資料兩欄位的相關係數與合成資料兩欄位的相關係數之差異 |\n",
    "| Column Pair Trends | ContingencySimilarity | 用於兩類別變項，比較原始資料兩欄位的 TVD 與合成資料兩欄位的 TVD 之差異 |"
   ]
  },
  {
   "cell_type": "markdown",
   "metadata": {},
   "source": [
    "> 同場加映：\n",
    ">\n",
    "> Kolmogorov-Smirnov statistic 計算的是兩分配的累積機率分配函數 (CDF, Cumulative Density Function)。\n",
    "> \n",
    "> ![](Pic/KS.png)\n",
    ">\n",
    "> From https://docs.sdv.dev/sdmetrics/metrics/metrics-glossary/kscomplement"
   ]
  },
  {
   "cell_type": "markdown",
   "metadata": {},
   "source": [
    "> 同場加映：\n",
    ">\n",
    "> TVD 的計算方式為 $\\delta (R, S) = \\frac{1}{2}\\Sigma_{\\omega\\in\\Omega}|R_{\\omega}-S_{\\omega}|$，其中 $\\omega$ 代表該欄位 $\\Omega$ 的所有可能組合。 $R$ 與 $S$ 則分別代表原始資料與合成資料該類別的出現頻率。\n",
    ">\n",
    "> ![](Pic/TVD.png)\n",
    ">\n",
    "> From https://docs.sdv.dev/sdmetrics/metrics/metrics-glossary/correlationsimilarity"
   ]
  },
  {
   "cell_type": "markdown",
   "metadata": {},
   "source": [
    "> 同場加映：\n",
    ">\n",
    "> CorrelationSimilarity 中的相關係數可選用 Pearson 相關係數（預設）或 Spearman 相關係數。前者檢驗兩欄位的線性相關程度，後者則是檢驗兩欄位的單調相關程度（僅衡量排名）。需注意計算 Spearman 相關係數費時較久。CorrelationSimilarity 的計算方式為：$\\text{score} = 1 - \\frac{|S_{A, B} - R_{A, B}|}{2}$。其中 $A$, $B$ 為兩連續變數欄位。需注意的是，相關性不代表趨勢（斜率），因此在兩欄位沒有呈現線性關係時（相關性接近 0）時，若合成資料也捕捉到此現象，則在 CorrelationSimilarity 可能獲得高分。\n",
    ">\n",
    "> ![](Pic/Corr.png)\n",
    ">\n",
    "> From https://docs.sdv.dev/sdmetrics/metrics/metrics-glossary/correlationsimilarity"
   ]
  },
  {
   "cell_type": "markdown",
   "metadata": {},
   "source": [
    "> 同場加映：\n",
    ">\n",
    "> ContingencySimilarity 的計算方式為：$\\text{score} = 1 - \\frac{1}{2}\\Sigma_{\\alpha\\in A}\\Sigma_{\\beta\\in B}|S_{\\alpha, \\beta}-R_{\\alpha, \\beta}|$。其中 $\\alpha$ 代表在 $A$ 欄位中所有可能的類別而 $\\beta$ 代表在 $B$ 欄位所有可能的類別。$R$ 和 $S$ 分別代表原始資料與合成資料在該類別的出現頻率。"
   ]
  },
  {
   "cell_type": "markdown",
   "metadata": {},
   "source": [
    "> 同場加映：\n",
    ">\n",
    "> 目前沒有標準的流程以計算數值欄位與類別欄位間的相關性，一可行的做法是將數值欄位切分為數等分，使其變成類別欄位，再用類別欄位的方式進行計算。"
   ]
  },
  {
   "cell_type": "code",
   "execution_count": 68,
   "metadata": {},
   "outputs": [
    {
     "name": "stdout",
     "output_type": "stream",
     "text": [
      "Generating report ...\n",
      "(1/2) Evaluating Column Shapes: : 100%|██████████| 8/8 [00:00<00:00, 34.28it/s]\n",
      "(2/2) Evaluating Column Pair Trends: : 100%|██████████| 28/28 [00:00<00:00, 68.39it/s] \n",
      "\n",
      "Overall Score: 68.96%\n",
      "\n",
      "Properties:\n",
      "- Column Shapes: 80.15%\n",
      "- Column Pair Trends: 57.77%\n"
     ]
    }
   ],
   "source": [
    "report = QualityReport()\n",
    "\n",
    "report.generate(real_data=train_data, synthetic_data=synthetic_data_gaussian, metadata=metadata.to_dict())"
   ]
  },
  {
   "cell_type": "code",
   "execution_count": 71,
   "metadata": {},
   "outputs": [
    {
     "data": {
      "text/html": [
       "<div>\n",
       "<style scoped>\n",
       "    .dataframe tbody tr th:only-of-type {\n",
       "        vertical-align: middle;\n",
       "    }\n",
       "\n",
       "    .dataframe tbody tr th {\n",
       "        vertical-align: top;\n",
       "    }\n",
       "\n",
       "    .dataframe thead th {\n",
       "        text-align: right;\n",
       "    }\n",
       "</style>\n",
       "<table border=\"1\" class=\"dataframe\">\n",
       "  <thead>\n",
       "    <tr style=\"text-align: right;\">\n",
       "      <th></th>\n",
       "      <th>Column</th>\n",
       "      <th>Metric</th>\n",
       "      <th>Score</th>\n",
       "    </tr>\n",
       "  </thead>\n",
       "  <tbody>\n",
       "    <tr>\n",
       "      <th>0</th>\n",
       "      <td>性別</td>\n",
       "      <td>TVComplement</td>\n",
       "      <td>0.999112</td>\n",
       "    </tr>\n",
       "    <tr>\n",
       "      <th>1</th>\n",
       "      <td>生日</td>\n",
       "      <td>KSComplement</td>\n",
       "      <td>0.996363</td>\n",
       "    </tr>\n",
       "    <tr>\n",
       "      <th>2</th>\n",
       "      <td>年收入-萬</td>\n",
       "      <td>KSComplement</td>\n",
       "      <td>0.987413</td>\n",
       "    </tr>\n",
       "    <tr>\n",
       "      <th>3</th>\n",
       "      <td>貸款申請日</td>\n",
       "      <td>KSComplement</td>\n",
       "      <td>0.727000</td>\n",
       "    </tr>\n",
       "    <tr>\n",
       "      <th>4</th>\n",
       "      <td>貸款金額-萬</td>\n",
       "      <td>KSComplement</td>\n",
       "      <td>0.297413</td>\n",
       "    </tr>\n",
       "  </tbody>\n",
       "</table>\n",
       "</div>"
      ],
      "text/plain": [
       "   Column        Metric     Score\n",
       "0      性別  TVComplement  0.999112\n",
       "1      生日  KSComplement  0.996363\n",
       "2   年收入-萬  KSComplement  0.987413\n",
       "3   貸款申請日  KSComplement  0.727000\n",
       "4  貸款金額-萬  KSComplement  0.297413"
      ]
     },
     "execution_count": 71,
     "metadata": {},
     "output_type": "execute_result"
    }
   ],
   "source": [
    "report.get_details(property_name='Column Shapes')"
   ]
  },
  {
   "cell_type": "code",
   "execution_count": 73,
   "metadata": {},
   "outputs": [
    {
     "data": {
      "text/html": [
       "<div>\n",
       "<style scoped>\n",
       "    .dataframe tbody tr th:only-of-type {\n",
       "        vertical-align: middle;\n",
       "    }\n",
       "\n",
       "    .dataframe tbody tr th {\n",
       "        vertical-align: top;\n",
       "    }\n",
       "\n",
       "    .dataframe thead th {\n",
       "        text-align: right;\n",
       "    }\n",
       "</style>\n",
       "<table border=\"1\" class=\"dataframe\">\n",
       "  <thead>\n",
       "    <tr style=\"text-align: right;\">\n",
       "      <th></th>\n",
       "      <th>Column 1</th>\n",
       "      <th>Column 2</th>\n",
       "      <th>Metric</th>\n",
       "      <th>Score</th>\n",
       "      <th>Real Correlation</th>\n",
       "      <th>Synthetic Correlation</th>\n",
       "    </tr>\n",
       "  </thead>\n",
       "  <tbody>\n",
       "    <tr>\n",
       "      <th>0</th>\n",
       "      <td>性別</td>\n",
       "      <td>生日</td>\n",
       "      <td>ContingencySimilarity</td>\n",
       "      <td>0.000000e+00</td>\n",
       "      <td>NaN</td>\n",
       "      <td>NaN</td>\n",
       "    </tr>\n",
       "    <tr>\n",
       "      <th>1</th>\n",
       "      <td>性別</td>\n",
       "      <td>年收入-萬</td>\n",
       "      <td>ContingencySimilarity</td>\n",
       "      <td>0.000000e+00</td>\n",
       "      <td>NaN</td>\n",
       "      <td>NaN</td>\n",
       "    </tr>\n",
       "    <tr>\n",
       "      <th>2</th>\n",
       "      <td>性別</td>\n",
       "      <td>貸款申請日</td>\n",
       "      <td>ContingencySimilarity</td>\n",
       "      <td>0.000000e+00</td>\n",
       "      <td>NaN</td>\n",
       "      <td>NaN</td>\n",
       "    </tr>\n",
       "    <tr>\n",
       "      <th>3</th>\n",
       "      <td>性別</td>\n",
       "      <td>貸款金額-萬</td>\n",
       "      <td>ContingencySimilarity</td>\n",
       "      <td>2.220446e-16</td>\n",
       "      <td>NaN</td>\n",
       "      <td>NaN</td>\n",
       "    </tr>\n",
       "    <tr>\n",
       "      <th>4</th>\n",
       "      <td>生日</td>\n",
       "      <td>年收入-萬</td>\n",
       "      <td>CorrelationSimilarity</td>\n",
       "      <td>9.980926e-01</td>\n",
       "      <td>-0.001771</td>\n",
       "      <td>0.002044</td>\n",
       "    </tr>\n",
       "    <tr>\n",
       "      <th>5</th>\n",
       "      <td>生日</td>\n",
       "      <td>貸款申請日</td>\n",
       "      <td>CorrelationSimilarity</td>\n",
       "      <td>8.951400e-01</td>\n",
       "      <td>-0.003162</td>\n",
       "      <td>0.206558</td>\n",
       "    </tr>\n",
       "    <tr>\n",
       "      <th>6</th>\n",
       "      <td>生日</td>\n",
       "      <td>貸款金額-萬</td>\n",
       "      <td>CorrelationSimilarity</td>\n",
       "      <td>9.973444e-01</td>\n",
       "      <td>-0.001626</td>\n",
       "      <td>-0.006937</td>\n",
       "    </tr>\n",
       "    <tr>\n",
       "      <th>7</th>\n",
       "      <td>年收入-萬</td>\n",
       "      <td>貸款申請日</td>\n",
       "      <td>CorrelationSimilarity</td>\n",
       "      <td>9.912967e-01</td>\n",
       "      <td>-0.024470</td>\n",
       "      <td>-0.007063</td>\n",
       "    </tr>\n",
       "    <tr>\n",
       "      <th>8</th>\n",
       "      <td>年收入-萬</td>\n",
       "      <td>貸款金額-萬</td>\n",
       "      <td>CorrelationSimilarity</td>\n",
       "      <td>9.012956e-01</td>\n",
       "      <td>0.328948</td>\n",
       "      <td>0.131539</td>\n",
       "    </tr>\n",
       "    <tr>\n",
       "      <th>9</th>\n",
       "      <td>貸款申請日</td>\n",
       "      <td>貸款金額-萬</td>\n",
       "      <td>CorrelationSimilarity</td>\n",
       "      <td>9.936096e-01</td>\n",
       "      <td>0.011160</td>\n",
       "      <td>-0.001621</td>\n",
       "    </tr>\n",
       "  </tbody>\n",
       "</table>\n",
       "</div>"
      ],
      "text/plain": [
       "  Column 1 Column 2                 Metric         Score  Real Correlation  \\\n",
       "0       性別       生日  ContingencySimilarity  0.000000e+00               NaN   \n",
       "1       性別    年收入-萬  ContingencySimilarity  0.000000e+00               NaN   \n",
       "2       性別    貸款申請日  ContingencySimilarity  0.000000e+00               NaN   \n",
       "3       性別   貸款金額-萬  ContingencySimilarity  2.220446e-16               NaN   \n",
       "4       生日    年收入-萬  CorrelationSimilarity  9.980926e-01         -0.001771   \n",
       "5       生日    貸款申請日  CorrelationSimilarity  8.951400e-01         -0.003162   \n",
       "6       生日   貸款金額-萬  CorrelationSimilarity  9.973444e-01         -0.001626   \n",
       "7    年收入-萬    貸款申請日  CorrelationSimilarity  9.912967e-01         -0.024470   \n",
       "8    年收入-萬   貸款金額-萬  CorrelationSimilarity  9.012956e-01          0.328948   \n",
       "9    貸款申請日   貸款金額-萬  CorrelationSimilarity  9.936096e-01          0.011160   \n",
       "\n",
       "   Synthetic Correlation  \n",
       "0                    NaN  \n",
       "1                    NaN  \n",
       "2                    NaN  \n",
       "3                    NaN  \n",
       "4               0.002044  \n",
       "5               0.206558  \n",
       "6              -0.006937  \n",
       "7              -0.007063  \n",
       "8               0.131539  \n",
       "9              -0.001621  "
      ]
     },
     "execution_count": 73,
     "metadata": {},
     "output_type": "execute_result"
    }
   ],
   "source": [
    "report.get_details(property_name='Column Pair Trends')"
   ]
  },
  {
   "cell_type": "markdown",
   "metadata": {},
   "source": [
    "如果在保真度的分數較低，則可以先了解造成低分的原因（利用 `get_details()`），再針對該欄位進行研究及處理。需注意的是，保真度分數低不代表下游任務的實用性低。"
   ]
  },
  {
   "cell_type": "markdown",
   "metadata": {
    "id": "R7-7EpI7cmxr"
   },
   "source": [
    "## 保護力：Anonymeter\n",
    "\n",
    "`anonymeter` 是一個評估合成表格資料中不同層面隱私風險的 `Python` 函式庫，包括指認性 (Singling Out)、連結性 (Linkability)、和推斷性 (Inference) 風險。所有的值皆介於 0~1 之間，越接近 1 代表風險越高，保護力越低。詳細技術討論可見[這篇 paper](https://petsymposium.org/popets/2023/popets-2023-0055.pdf)。`anonymeter` 傾向用最保守的方式進行風險估計，因此它假設攻擊者擁有全部的合成資料，且擁有正確的關於原始資料的部分知識（auxiliary information），但沒辦法取用合成模型。在使用上需注意此方法需要一份沒有作為合成方法擬合對象的控制資料集作為控制攻擊率的計算，因此需要在訓練合成模型前先將拆分部分資料，不作為訓練之用。官方範例可見[此 notebook](https://github.com/statice/anonymeter/blob/main/notebooks/anonymeter_example.ipynb)。"
   ]
  },
  {
   "cell_type": "markdown",
   "metadata": {},
   "source": [
    "### 指認性\n",
    "  \n",
    "合成資料中只有特定一筆資料有獨一無二的組合（在此我們用一半的欄位進行測試），不必然可以進行再辨認（即使知道這個資訊，也不代表可以知道這個人是誰）。\n",
    "\n",
    "![](Pic/Singlingout.png)"
   ]
  },
  {
   "cell_type": "code",
   "execution_count": 74,
   "metadata": {},
   "outputs": [],
   "source": [
    "train_data_revised = train_data.copy()\n",
    "synthetic_data_gaussian_revised = synthetic_data_gaussian.copy()\n",
    "test_data_revised = test_data.copy()"
   ]
  },
  {
   "cell_type": "code",
   "execution_count": 75,
   "metadata": {},
   "outputs": [],
   "source": [
    "# 因為 anonymeter 的變數名稱限制，所以將原始資料的欄位名稱做修改\n",
    "\n",
    "train_data_revised.rename(columns={'年收入-萬': '年收入'}, inplace=True)\n",
    "train_data_revised.rename(columns={'貸款金額-萬': '貸款金額'}, inplace=True)\n",
    "synthetic_data_gaussian_revised.rename(columns={'年收入-萬': '年收入'}, inplace=True)\n",
    "synthetic_data_gaussian_revised.rename(columns={'貸款金額-萬': '貸款金額'}, inplace=True)\n",
    "test_data_revised.rename(columns={'年收入-萬': '年收入'}, inplace=True)\n",
    "test_data_revised.rename(columns={'貸款金額-萬': '貸款金額'}, inplace=True)"
   ]
  },
  {
   "cell_type": "code",
   "execution_count": 76,
   "metadata": {},
   "outputs": [],
   "source": [
    "# 由於 anonymeter 套件在執行上有隨機性，可透過 logging 模組來追蹤錯誤訊息\n",
    "file_handler = logging.FileHandler(\"anonymeter.log\")\n",
    "\n",
    "file_handler.setLevel(logging.DEBUG)\n",
    "\n",
    "logger = logging.getLogger(\"anonymeter\")\n",
    "logger.addHandler(file_handler)\n",
    "logger.setLevel(logging.DEBUG)"
   ]
  },
  {
   "cell_type": "code",
   "execution_count": 77,
   "metadata": {},
   "outputs": [
    {
     "name": "stdout",
     "output_type": "stream",
     "text": [
      "PrivacyRisk(value=0.019260130035860284, ci=(0.0, 0.08314540970956837))\n"
     ]
    }
   ],
   "source": [
    "singlingout = SinglingOutEvaluator(ori=train_data_revised, syn=synthetic_data_gaussian_revised, control=test_data_revised, n_attacks=50)\n",
    "singlingout.evaluate(mode='univariate')\n",
    "risk = singlingout.risk()\n",
    "print(risk)"
   ]
  },
  {
   "cell_type": "markdown",
   "metadata": {},
   "source": [
    "> 同場加映：\n",
    ">\n",
    "> `anonymeter` 也有多變數的版本，只需要在宣告物件時加入參數：`n_cols` 代表放入 query 的變數數目，以及在使用 `evaluate()` 方法時將參數改為 `mode='multivariate'` 即可。需注意其執行時間會大幅增加，因為會更難找到合適的 query，可在宣告物件時利用 `max_attempts` 控制搜尋次數。"
   ]
  },
  {
   "cell_type": "markdown",
   "metadata": {
    "id": "Rq6xpzofcmxr"
   },
   "source": [
    "> 同場加映：\n",
    ">\n",
    "> 以下程式碼解析風險的計算方式：\n",
    "> \n",
    "> 在此之前，需先了解攻擊率的定義：攻擊者成功執行特定攻擊的比例，又可稱為攻擊成功率。而攻擊成功率可分為三種：主要攻擊率 (Main Attack Rate) 是指使用合成資料來推斷訓練資料紀錄的攻擊率、控制攻擊率 (Control Attack Rate) 則是使用合成資料來推斷控制資料紀錄的攻擊率、基線攻擊率 (Baseline Attack Rate) 則是使用隨機猜測來推斷訓練資料紀錄的成功率。如果主要攻擊率小於等於基線攻擊率，則代表主要攻擊的建模、其效果還不如隨機猜測，此時結果沒有意義。藉由主要攻擊率與控制攻擊率，可以計算前述之隱私風險，公式為：$$\\text{Privacy Risk} = \\frac{\\text{Main Attack} - \\text{Control Attack}}{1-\\text{Control Attack}}$$\n",
    "> 其中分子代表攻擊者利用合成資料的攻擊，也就是主要攻擊對控制攻擊成功率的進步程度，此量測目的是為了要分辨出攻擊者能夠成功攻擊是因為資料本身特性（generic information，即控制攻擊成功率）還是根據個體資料（specific information，即控制攻擊成功率與主要攻擊成功率之差）。分母則以 $1 -$ 控制攻擊 代表主要攻擊相對於完美攻擊者 (100%) 的效果，作為標準化因子。在此完美攻擊者是一個概念，代表著一個全知全能的攻擊者，表示他的攻擊絕對會成功。後續其他的隱私風險指標皆是同樣的架構計算而得。"
   ]
  },
  {
   "cell_type": "code",
   "execution_count": 78,
   "metadata": {},
   "outputs": [
    {
     "name": "stdout",
     "output_type": "stream",
     "text": [
      "主要攻擊率 SuccessRate(value=0.05424684758401218, error=0.05070758831236596)\n",
      "控制攻擊率 SuccessRate(value=0.035673799566679355, error=0.03567379956667936)\n",
      "基線攻擊率 SuccessRate(value=0.035673799566679355, error=0.03567379956667936)\n"
     ]
    }
   ],
   "source": [
    "print('主要攻擊率', singlingout.results().attack_rate)\n",
    "print('控制攻擊率', singlingout.results().control_rate)\n",
    "print('基線攻擊率', singlingout.results().baseline_rate)"
   ]
  },
  {
   "cell_type": "markdown",
   "metadata": {},
   "source": [
    "> 同場加映：\n",
    ">\n",
    "> 在有些時候會遇到主要攻擊率低於基線攻擊率的情況。然而基線攻擊率是隨機猜測時的攻擊成功率，因此理論上不可能攻擊率比此分數還低。所以 `anonymeter` 會跳出警告表示此分析結果不可信 (Analysis results cannot be trusted.)。遇到這種情形，建議採用基線攻擊率之風險作為此合成資料之風險，以進行較保守的估計。"
   ]
  },
  {
   "cell_type": "markdown",
   "metadata": {},
   "source": [
    "### 連結性\n",
    "  \n",
    "判斷兩筆（或以上）資料屬於同個人或同個團體，意即若攻擊者同時有原始資料中兩部分的欄位，但缺乏將兩份資料連結起來的線索，合成資料可以成為此線索的風險。\n",
    "\n",
    "![](Pic/Linkability.png)"
   ]
  },
  {
   "cell_type": "code",
   "execution_count": 79,
   "metadata": {},
   "outputs": [],
   "source": [
    "# 確認所有日期欄位皆為 datetime 格式\n",
    "\n",
    "synthetic_data_gaussian_revised['生日'] = synthetic_data_gaussian_revised['生日'].astype('datetime64[ns]')\n",
    "synthetic_data_gaussian_revised['貸款申請日'] = synthetic_data_gaussian_revised['貸款申請日'].astype('datetime64[ns]')\n",
    "train_data_revised['生日'] = train_data_revised['生日'].astype('datetime64[ns]')\n",
    "train_data_revised['貸款申請日'] = train_data_revised['貸款申請日'].astype('datetime64[ns]')\n",
    "test_data_revised['生日'] = test_data_revised['生日'].astype('datetime64[ns]')\n",
    "test_data_revised['貸款申請日'] = test_data_revised['貸款申請日'].astype('datetime64[ns]')"
   ]
  },
  {
   "cell_type": "code",
   "execution_count": 82,
   "metadata": {},
   "outputs": [
    {
     "data": {
      "text/plain": [
       "PrivacyRisk(value=0.0, ci=(0.0, 0.0013858817836016315))"
      ]
     },
     "execution_count": 82,
     "metadata": {},
     "output_type": "execute_result"
    }
   ],
   "source": [
    "aux_cols = [\n",
    "    ['性別', '生日', '年收入'],\n",
    "    ['貸款申請日', '貸款金額']\n",
    "]\n",
    "linkablility = LinkabilityEvaluator(ori=train_data_revised, \n",
    "                                    syn=synthetic_data_gaussian_revised, \n",
    "                                    control=test_data_revised,\n",
    "                                    n_attacks=2000,\n",
    "                                    aux_cols=aux_cols,\n",
    "                                    n_neighbors=10)\n",
    "linkablility.evaluate()\n",
    "linkablility.risk()"
   ]
  },
  {
   "cell_type": "markdown",
   "metadata": {},
   "source": [
    "### 推斷性\n",
    "  \n",
    "攻擊者可以猜測（推論）出合成資料中未知變數（秘密資訊）的值之風險。\n",
    "\n",
    "![](Pic/Inference.png)"
   ]
  },
  {
   "cell_type": "code",
   "execution_count": 84,
   "metadata": {},
   "outputs": [
    {
     "data": {
      "text/plain": [
       "PrivacyRisk(value=0.0, ci=(0.0, 0.017443466779538945))"
      ]
     },
     "execution_count": 84,
     "metadata": {},
     "output_type": "execute_result"
    }
   ],
   "source": [
    "aux_cols_inference = ['性別', '生日', '年收入']\n",
    "secret = '貸款金額'\n",
    "\n",
    "inference = InferenceEvaluator(ori=train_data_revised,\n",
    "                                 syn=synthetic_data_gaussian_revised,\n",
    "                                 control=test_data_revised,\n",
    "                                 n_attacks=2000,\n",
    "                                 secret=secret,\n",
    "                                 aux_cols=aux_cols_inference)\n",
    "\n",
    "inference.evaluate()\n",
    "inference.risk()"
   ]
  },
  {
   "cell_type": "markdown",
   "metadata": {},
   "source": [
    "需要注意的是，`anonymeter` 給出的隱私風險均是指估計風險「下限」，代表此合成資料的風險「不低於」估計值。因此實際風險可能高於估計值。"
   ]
  },
  {
   "cell_type": "markdown",
   "metadata": {},
   "source": [
    "> 同場加映：\n",
    ">\n",
    "> SDMetrics 也有提供一些隱私保護力相關的指標，如 [`CategoricalCAP`](https://docs.sdv.dev/sdmetrics/metrics/metrics-glossary/categoricalcap)、[`NewRowSynthesis`](https://docs.sdv.dev/sdmetrics/metrics/metrics-glossary/newrowsynthesis) 等，其中 `CategoricalCAP` 類似於衡量推斷性，不過僅能用於類別資料上；`NewRowSynthesis` 則是衡量合成資料中是否有與原始資料相同的資料，任何資料型態皆可使用。"
   ]
  },
  {
   "cell_type": "markdown",
   "metadata": {},
   "source": [
    "## 實用性\n",
    "\n",
    "實用性分數取決於下游任務的種類與評分指標，常見的下游任務有分類任務、迴歸任務、集群任務、統計分析任務。例如在分類任務上，可行的評分指標有 Precision、Recall、Accuracy、ROCAUC 等，取決於使用情境。常見的評估框架是 train-on-synthetic-test-on-original，利用原始資料與合成資料分別訓練相同的機器學習模型，並利用控制組的資料進行結果預測。若兩個模型的表現分數接近（分數差異小），甚至合成資料模型超過原始資料模型的表現，代表合成資料具有高度的實用性。\n",
    "\n",
    "在此我們進行一迴歸任務的實用性評估：利用性別與年收入預測貸款金額。"
   ]
  },
  {
   "cell_type": "code",
   "execution_count": null,
   "metadata": {},
   "outputs": [],
   "source": [
    "def regression_task(train, test, n_splits):\n",
    "    \"\"\"\n",
    "    Use 性別 and 年收入 to predict 貸款金額\n",
    "    Perform 5-fold validation to acquire robust results\n",
    "\n",
    "    Args:\n",
    "        train: pd.DataFrame, training data\n",
    "        test: pd.DataFrame, testing data\n",
    "        n_splits: int, number of splits for KFold\n",
    "\n",
    "    Output:\n",
    "        results: list of R^2 score\n",
    "    \"\"\"\n"
   ]
  },
  {
   "cell_type": "code",
   "execution_count": null,
   "metadata": {},
   "outputs": [],
   "source": [
    "original_results = regression_task(train_data, test_data, 5)\n",
    "synthetic_results = regression_task(synthetic_data_gaussian, test_data, 5)"
   ]
  },
  {
   "cell_type": "code",
   "execution_count": null,
   "metadata": {},
   "outputs": [],
   "source": [
    "original_results"
   ]
  },
  {
   "cell_type": "code",
   "execution_count": null,
   "metadata": {},
   "outputs": [],
   "source": [
    "synthetic_results"
   ]
  },
  {
   "cell_type": "markdown",
   "metadata": {},
   "source": [
    "因為我們使用的資料欄位較少，且從敘述性統計我們也可觀察到單靠這幾個變數並沒有辦法進行合適的預測，因此 $R^2$ 分數低很合理。在這裡我們可以觀察利用原始資料以及利用合成資料訓練的兩模型在測試資料上的表現差異：兩者的差異並不多，我們也可以計算差異百分比。"
   ]
  },
  {
   "cell_type": "markdown",
   "metadata": {},
   "source": [
    "代表合成資料的表現（實用性）低於原始資料 4%，尚在可接受範圍。此結果代表此合成資料相比於原始資料，並沒有損失太多實用性。"
   ]
  },
  {
   "cell_type": "markdown",
   "metadata": {},
   "source": [
    "# One Step Forward"
   ]
  },
  {
   "cell_type": "markdown",
   "metadata": {},
   "source": [
    "## 自定義 constraints"
   ]
  },
  {
   "cell_type": "markdown",
   "metadata": {},
   "source": [
    "在前面章節介紹了 SDV 中 constraints 的用法。它可以針對資料型態或欄位間的關係設下限制，讓合成資料也能符合這些規則。然而有時候規則遠比預設提供的更加複雜，這時候就必須使用自定義的 constraints。SDV 中提供自定義 constraints 的功能。在示範之前，須先簡單介紹 constraints 的運作原理。"
   ]
  },
  {
   "cell_type": "markdown",
   "metadata": {},
   "source": [
    "![](Pic/Constraints.png)\n",
    "\n",
    "From https://docs.sdv.dev/sdv/reference/constraint-logic/custom-logic\n",
    "\n",
    "寫一個自定義 constraints，需要包含以下兩個部分：有效性驗證、資料（逆）轉換，其中前者為必要，後者為非必須但建議包含的部分。"
   ]
  },
  {
   "cell_type": "code",
   "execution_count": null,
   "metadata": {},
   "outputs": [],
   "source": [
    "cons_data = raw_data.copy()"
   ]
  },
  {
   "cell_type": "code",
   "execution_count": null,
   "metadata": {},
   "outputs": [],
   "source": [
    "cons_data['郵遞區號'] = cons_data['郵遞區號'].astype(str)"
   ]
  },
  {
   "cell_type": "markdown",
   "metadata": {},
   "source": [
    "### 自定義 contraints 範例 1\n",
    "\n",
    "設定貸款金額至多只能為年收入的 1.5 倍。"
   ]
  },
  {
   "cell_type": "code",
   "execution_count": null,
   "metadata": {},
   "outputs": [],
   "source": [
    "# 確保原始資料符合條件\n",
    "\n",
    "(cons_data['年收入-萬'] * 1.5 >= cons_data['貸款金額-萬']).all()"
   ]
  },
  {
   "cell_type": "code",
   "execution_count": null,
   "metadata": {},
   "outputs": [],
   "source": [
    "cons_data['貸款金額-萬'] = cons_data.apply(lambda x: x['貸款金額-萬'] if x['年收入-萬'] * 1.5 >= x['貸款金額-萬'] else x['年收入-萬'] * 1.5, axis=1)"
   ]
  },
  {
   "cell_type": "code",
   "execution_count": null,
   "metadata": {},
   "outputs": [],
   "source": [
    "# 確保原始資料符合條件\n",
    "(cons_data['年收入-萬'] * 1.5 >= cons_data['貸款金額-萬']).all()\n"
   ]
  },
  {
   "cell_type": "code",
   "execution_count": null,
   "metadata": {},
   "outputs": [],
   "source": [
    "train_cons_data, test_cons_data = train_test_split(cons_data, test_size=0.2, random_state=0)"
   ]
  },
  {
   "cell_type": "code",
   "execution_count": null,
   "metadata": {},
   "outputs": [],
   "source": [
    "synthesizer_cons_1 = GaussianCopulaSynthesizer(metadata)\n",
    "\n",
    "synthesizer_cons_1 = GaussianCopulaSynthesizer(metadata, numerical_distributions={\n",
    "    '年收入-萬': 'gamma',\n",
    "    '貸款金額-萬': 'gamma'\n",
    "    }\n",
    ")\n",
    "\n",
    "synthesizer_cons_1.auto_assign_transformers(train_cons_data)\n",
    "\n",
    "synthesizer_cons_1.update_transformers(column_name_to_transformer={\n",
    "    '姓名': AnonymizedFaker(provider_name='person', function_name='name',\n",
    "                           locales='zh_TW', \n",
    "                           missing_value_generation=None),\n",
    "    '身分證字號': AnonymizedFaker(provider_name='ssn', function_name='ssn',\n",
    "                            locales='zh_TW', cardinality_rule='match',\n",
    "                             missing_value_generation=None),\n",
    "    '郵遞區號': AnonymizedFaker(function_name='numerify',\n",
    "                            function_kwargs={'text': '%#####'},\n",
    "                             missing_value_generation=None)\n",
    "    }\n",
    ")\n",
    "\n",
    "# 使用自定義的 constraints\n",
    "synthesizer_cons_1.load_custom_constraint_classes(\n",
    "    filepath='Constraints/loan_maximum_constraints.py',\n",
    "    class_names=['LoanMaximumConstraints']\n",
    ")\n",
    "\n",
    "loan_maximum_constraints = {\n",
    "    'constraint_class': 'LoanMaximumConstraints',\n",
    "    'constraint_parameters': {\n",
    "        'column_names': ['年收入-萬', '貸款金額-萬']\n",
    "    }\n",
    "}\n",
    "\n",
    "synthesizer_cons_1.add_constraints(constraints=[my_constraint, loan_maximum_constraints])"
   ]
  },
  {
   "cell_type": "code",
   "execution_count": null,
   "metadata": {},
   "outputs": [],
   "source": [
    "synthesizer_cons_1.get_constraints()"
   ]
  },
  {
   "cell_type": "code",
   "execution_count": null,
   "metadata": {},
   "outputs": [],
   "source": [
    "synthesizer_cons_1.fit(train_cons_data)"
   ]
  },
  {
   "cell_type": "code",
   "execution_count": null,
   "metadata": {},
   "outputs": [],
   "source": [
    "syn_cons_1_data = synthesizer_cons_1.sample(num_rows=train_cons_data.shape[0], batch_size=500)"
   ]
  },
  {
   "cell_type": "code",
   "execution_count": null,
   "metadata": {},
   "outputs": [],
   "source": [
    "syn_cons_1_data"
   ]
  },
  {
   "cell_type": "code",
   "execution_count": null,
   "metadata": {},
   "outputs": [],
   "source": [
    "(syn_cons_1_data['年收入-萬'] * 1.5 >= syn_cons_1_data['貸款金額-萬']).all()"
   ]
  },
  {
   "cell_type": "markdown",
   "metadata": {},
   "source": [
    "### 自定義 contraints 範例 2\n",
    "\n",
    "設定男生身分證字號開頭數字為 1，女生為 2。"
   ]
  },
  {
   "cell_type": "code",
   "execution_count": null,
   "metadata": {},
   "outputs": [],
   "source": [
    "# 確保原始資料符合條件\n",
    "\n",
    "cons_data['身分證字號']"
   ]
  },
  {
   "cell_type": "code",
   "execution_count": null,
   "metadata": {},
   "outputs": [],
   "source": [
    "def replace_id(text, text2):\n",
    "    return re.sub(r'\\d', text2, text, count=1)"
   ]
  },
  {
   "cell_type": "code",
   "execution_count": null,
   "metadata": {},
   "outputs": [],
   "source": [
    "cons_data['身分證字號'] = cons_data.apply(lambda x: replace_id(x['身分證字號'], '1') if x['性別'] == '男' else replace_id(x['身分證字號'], '2'), axis=1)"
   ]
  },
  {
   "cell_type": "code",
   "execution_count": null,
   "metadata": {},
   "outputs": [],
   "source": [
    "cons_data"
   ]
  },
  {
   "cell_type": "code",
   "execution_count": null,
   "metadata": {},
   "outputs": [],
   "source": [
    "train_cons_data, test_cons_data = train_test_split(cons_data, test_size=0.2, random_state=0)"
   ]
  },
  {
   "cell_type": "code",
   "execution_count": null,
   "metadata": {},
   "outputs": [],
   "source": [
    "synthesizer_cons_2 = GaussianCopulaSynthesizer(metadata)\n",
    "\n",
    "synthesizer_cons_2 = GaussianCopulaSynthesizer(metadata, numerical_distributions={\n",
    "    '年收入-萬': 'gamma',\n",
    "    '貸款金額-萬': 'gamma'\n",
    "    }\n",
    ")\n",
    "\n",
    "synthesizer_cons_2.auto_assign_transformers(train_cons_data)\n",
    "\n",
    "synthesizer_cons_2.update_transformers(column_name_to_transformer={\n",
    "    '姓名': AnonymizedFaker(provider_name='person', function_name='name',\n",
    "                           locales='zh_TW', \n",
    "                           missing_value_generation=None),\n",
    "    '身分證字號': AnonymizedFaker(provider_name='ssn', function_name='ssn',\n",
    "                            locales='zh_TW', cardinality_rule='match',\n",
    "                             missing_value_generation=None),\n",
    "    '郵遞區號': AnonymizedFaker(function_name='numerify',\n",
    "                            function_kwargs={'text': '%#####'},\n",
    "                             missing_value_generation=None)\n",
    "    }\n",
    ")\n",
    "\n",
    "# 使用自定義的 constraints\n",
    "synthesizer_cons_2.load_custom_constraint_classes(\n",
    "    filepath='Constraints/loan_maximum_constraints.py',\n",
    "    class_names=['LoanMaximumConstraints']\n",
    ")\n",
    "\n",
    "synthesizer_cons_2.load_custom_constraint_classes(\n",
    "    filepath='Constraints/id_gender_constraints.py',\n",
    "    class_names=['IdGenderConstraints']\n",
    ")\n",
    "\n",
    "loan_maximum_constraints = {\n",
    "    'constraint_class': 'LoanMaximumConstraints',\n",
    "    'constraint_parameters': {\n",
    "        'column_names': ['年收入-萬', '貸款金額-萬']\n",
    "    }\n",
    "}\n",
    "\n",
    "id_gender_constraints = {\n",
    "    'constraint_class': 'IdGenderConstraints',\n",
    "    'constraint_parameters': {\n",
    "        'column_names': ['身分證字號', '性別']\n",
    "    }\n",
    "}\n",
    "\n",
    "synthesizer_cons_2.add_constraints(constraints=[my_constraint, \n",
    "                                                loan_maximum_constraints,\n",
    "                                                id_gender_constraints])"
   ]
  },
  {
   "cell_type": "code",
   "execution_count": null,
   "metadata": {},
   "outputs": [],
   "source": [
    "synthesizer_cons_2.get_constraints()"
   ]
  },
  {
   "cell_type": "code",
   "execution_count": null,
   "metadata": {},
   "outputs": [],
   "source": [
    "synthesizer_cons_2.fit(train_cons_data)"
   ]
  },
  {
   "cell_type": "code",
   "execution_count": null,
   "metadata": {},
   "outputs": [],
   "source": [
    "syn_cons_2_data = synthesizer_cons_2.sample(num_rows=train_cons_data.shape[0], batch_size=500)"
   ]
  },
  {
   "cell_type": "code",
   "execution_count": null,
   "metadata": {},
   "outputs": [],
   "source": [
    "syn_cons_2_data"
   ]
  },
  {
   "cell_type": "code",
   "execution_count": null,
   "metadata": {},
   "outputs": [],
   "source": [
    "def is_valid(column_names, data):\n",
    "    \"\"\"\n",
    "    Checks for the validity of the data for the given column names.\n",
    "    \n",
    "    Args:\n",
    "        column_names(list[str]):\n",
    "            A list of the column names involved in the constraint\n",
    "        data(pandas.DataFrame):\n",
    "            A dataaset\n",
    "\n",
    "    Returns:\n",
    "        pandas Series:\n",
    "            A Series of True/False values describing whether the each row\n",
    "            of the data is valid. There is exactly 1 True/False value for\n",
    "            every row in the data.\n",
    "    \"\"\"\n",
    "\n",
    "    id = column_names[0]\n",
    "    gender = column_names[1]\n",
    "\n",
    "    male = (data[gender] == '男') & (data[id].str.extract(r'(\\d)', expand=False) == '1')\n",
    "    female = (data[gender] == '女') & (data[id].str.extract(r'(\\d)', expand=False) == '2')\n",
    "\n",
    "    return male | female"
   ]
  },
  {
   "cell_type": "code",
   "execution_count": null,
   "metadata": {},
   "outputs": [],
   "source": [
    "is_valid(['身分證字號', '性別'], syn_cons_2_data).all()"
   ]
  },
  {
   "cell_type": "markdown",
   "metadata": {},
   "source": [
    "需要注意的是，若加上限制，合成器可能會使用拒絕抽樣法來確保所有的限制都被滿足，這會降低合成速度。因此若有其他解決方法，請先嘗試其他方法，自定義 constraints 應作為最後手段使用。另外，若有可用的 `transform` 與 `reverse_transform` 方法，請務必加上，可加快合成速度。"
   ]
  },
  {
   "cell_type": "markdown",
   "metadata": {},
   "source": [
    "# 結語"
   ]
  },
  {
   "cell_type": "markdown",
   "metadata": {
    "editable": true,
    "slideshow": {
     "slide_type": ""
    },
    "tags": []
   },
   "source": [
    "在製作合成資料前，可以先思考以下問題：\n",
    "\n",
    "* 合成資料產生目的\n",
    "    * 擬真？實用？\n",
    "* 資料樣態\n",
    "    * 有多少欄位？多少筆資料？\n",
    "    * 每個欄位的資料型態？\n",
    "    * 是否有直接識別/間接識別欄位？\n",
    "* 資料前處理\n",
    "    * 根據資料型態，每個欄位適合的前處理方式？\n",
    "    * 預設方式是否合理？\n",
    "    * 是否需要加入限制？\n",
    "* 合成方法\n",
    "    * 執行速度要求？\n",
    "    * 參數調整需求？\n",
    "    * 是否有已知的統計分配？\n",
    "* 抽樣方式\n",
    "    * 抽樣用途？\n",
    "    * 抽樣筆數？\n",
    "* 合成資料評估\n",
    "    * 哪個指標最為重要？\n",
    "    * 下游任務為何？\n",
    "\n",
    "透過以上問題，能幫助你更了解如何產製一份符合需求的合成資料，祝順利！"
   ]
  }
 ],
 "metadata": {
  "colab": {
   "provenance": []
  },
  "kernelspec": {
   "display_name": "Python 3 (ipykernel)",
   "language": "python",
   "name": "python3"
  },
  "language_info": {
   "codemirror_mode": {
    "name": "ipython",
    "version": 3
   },
   "file_extension": ".py",
   "mimetype": "text/x-python",
   "name": "python",
   "nbconvert_exporter": "python",
   "pygments_lexer": "ipython3",
   "version": "3.10.14"
  }
 },
 "nbformat": 4,
 "nbformat_minor": 4
}
